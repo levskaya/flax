{
 "cells": [
  {
   "cell_type": "code",
   "execution_count": 1,
   "metadata": {},
   "outputs": [],
   "source": [
    "import jax\n",
    "from jax import lax, random, numpy as jnp\n",
    "import numpy as np\n",
    "import flax\n",
    "from flax import nn\n",
    "import dataclasses\n",
    "\n",
    "from typing import Any, Optional"
   ]
  },
  {
   "cell_type": "code",
   "execution_count": 2,
   "metadata": {},
   "outputs": [
    {
     "name": "stderr",
     "output_type": "stream",
     "text": [
      "/Users/levskaya/repos/aljax/jax/lib/xla_bridge.py:116: UserWarning: No GPU/TPU found, falling back to CPU.\n",
      "  warnings.warn('No GPU/TPU found, falling back to CPU.')\n"
     ]
    },
    {
     "data": {
      "text/plain": [
       "{'foo': {'kernel': DeviceArray([[-0.10392965, -0.09891689,  0.41300794],\n",
       "               [-0.02804299, -0.2828618 , -0.09221947],\n",
       "               [ 0.529738  , -0.28473023, -0.29105985],\n",
       "               [-0.06753982, -0.5128001 ,  0.44331315],\n",
       "               [-0.13527706, -0.14729215,  0.23034579],\n",
       "               [-0.1349464 , -0.41411245,  0.2732163 ],\n",
       "               [-0.03944878, -0.3619894 ,  0.27715003],\n",
       "               [-0.35726544,  0.1296376 , -0.17981628],\n",
       "               [ 0.23691937, -0.19829887,  0.51437813],\n",
       "               [ 0.03203585,  0.37968078,  0.38604495]], dtype=float32),\n",
       "  'bias': DeviceArray([0., 0., 0.], dtype=float32)}}"
      ]
     },
     "execution_count": 2,
     "metadata": {},
     "output_type": "execute_result"
    }
   ],
   "source": [
    "class Dense(nn.base.Module):\n",
    "  def __init__(self,           \n",
    "               features,\n",
    "               bias=True,\n",
    "               dtype=jnp.float32,\n",
    "               precision=None,\n",
    "               kernel_init=nn.linear.default_kernel_init,\n",
    "               bias_init=nn.initializers.zeros,\n",
    "               name=None):\n",
    "    self.features = features\n",
    "    self.bias = bias\n",
    "    self.dtype = dtype\n",
    "    self.precision = precision\n",
    "    self.kernel_init = kernel_init\n",
    "    self.bias_init = bias_init\n",
    "    self.name = name\n",
    "  def apply(self, inputs):\n",
    "    inputs = jnp.asarray(inputs, self.dtype)\n",
    "    kernel = self.param('kernel', (inputs.shape[-1], self.features), self.kernel_init)\n",
    "    kernel = jnp.asarray(kernel, self.dtype)\n",
    "    y = lax.dot_general(inputs, kernel,\n",
    "                        (((inputs.ndim - 1,), (0,)), ((), ())),\n",
    "                        precision=self.precision)\n",
    "    if self.bias:\n",
    "      bias = self.param('bias', (self.features,), self.bias_init)\n",
    "      bias = jnp.asarray(bias, self.dtype)\n",
    "      y = y + bias\n",
    "    return y\n",
    "\n",
    "class Test1(nn.Module):\n",
    "  def __init__(self, features):\n",
    "    self.features = features\n",
    "  def apply(self, x):\n",
    "    y = Dense(self.features, name='foo')(x)\n",
    "    return y\n",
    "\n",
    "#frame = nn.base._ModuleFrame(None, rng=random.PRNGKey(0), parent=None)\n",
    "#with nn.base._module_stack.frame(frame):\n",
    "out, ps = Test1(3).init(random.PRNGKey(0), jnp.zeros((2,10)))\n",
    "#print(nn.base._module_stack._stack.frames[0].params)\n",
    "ps"
   ]
  },
  {
   "cell_type": "code",
   "execution_count": 3,
   "metadata": {},
   "outputs": [
    {
     "data": {
      "text/plain": [
       "\u001b[0;31mInit signature:\u001b[0m \u001b[0mjax\u001b[0m\u001b[0;34m.\u001b[0m\u001b[0mnumpy\u001b[0m\u001b[0;34m.\u001b[0m\u001b[0mlax_numpy\u001b[0m\u001b[0;34m.\u001b[0m\u001b[0m_ScalarMeta\u001b[0m\u001b[0;34m(\u001b[0m\u001b[0mself\u001b[0m\u001b[0;34m,\u001b[0m \u001b[0;34m/\u001b[0m\u001b[0;34m,\u001b[0m \u001b[0;34m*\u001b[0m\u001b[0margs\u001b[0m\u001b[0;34m,\u001b[0m \u001b[0;34m**\u001b[0m\u001b[0mkwargs\u001b[0m\u001b[0;34m)\u001b[0m\u001b[0;34m\u001b[0m\u001b[0;34m\u001b[0m\u001b[0m\n",
       "\u001b[0;31mDocstring:\u001b[0m     \n",
       "type(object_or_name, bases, dict)\n",
       "type(object) -> the object's type\n",
       "type(name, bases, dict) -> a new type\n",
       "\u001b[0;31mFile:\u001b[0m           ~/repos/aljax/jax/numpy/lax_numpy.py\n",
       "\u001b[0;31mType:\u001b[0m           type\n",
       "\u001b[0;31mSubclasses:\u001b[0m     \n"
      ]
     },
     "metadata": {},
     "output_type": "display_data"
    }
   ],
   "source": [
    "?jax.numpy.lax_numpy._ScalarMeta"
   ]
  },
  {
   "cell_type": "code",
   "execution_count": 21,
   "metadata": {},
   "outputs": [
    {
     "data": {
      "text/plain": [
       "\u001b[0;31mInit signature:\u001b[0m \u001b[0mnp\u001b[0m\u001b[0;34m.\u001b[0m\u001b[0mfloat32\u001b[0m\u001b[0;34m(\u001b[0m\u001b[0mself\u001b[0m\u001b[0;34m,\u001b[0m \u001b[0;34m/\u001b[0m\u001b[0;34m,\u001b[0m \u001b[0;34m*\u001b[0m\u001b[0margs\u001b[0m\u001b[0;34m,\u001b[0m \u001b[0;34m**\u001b[0m\u001b[0mkwargs\u001b[0m\u001b[0;34m)\u001b[0m\u001b[0;34m\u001b[0m\u001b[0;34m\u001b[0m\u001b[0m\n",
       "\u001b[0;31mDocstring:\u001b[0m     \n",
       "Single-precision floating-point number type, compatible with C ``float``.\n",
       "Character code: ``'f'``.\n",
       "Canonical name: ``np.single``.\n",
       "Alias *on this platform*: ``np.float32``: 32-bit-precision floating-point number type: sign bit, 8 bits exponent, 23 bits mantissa.\n",
       "\u001b[0;31mFile:\u001b[0m           ~/envs/py36jax/lib/python3.6/site-packages/numpy/__init__.py\n",
       "\u001b[0;31mType:\u001b[0m           type\n",
       "\u001b[0;31mSubclasses:\u001b[0m     \n"
      ]
     },
     "metadata": {},
     "output_type": "display_data"
    }
   ],
   "source": [
    "?np.float32"
   ]
  },
  {
   "cell_type": "code",
   "execution_count": 5,
   "metadata": {},
   "outputs": [
    {
     "data": {
      "text/plain": [
       "{'foo': {'kernel': DeviceArray([[-0.2529256 ,  0.26981813,  0.30638131, -0.08274508,\n",
       "                -0.08477998],\n",
       "               [-0.08519974, -0.12731075,  0.18377769,  0.12409567,\n",
       "                 0.6234259 ],\n",
       "               [-0.08067774, -0.35942018,  0.13299485,  0.23421109,\n",
       "                 0.17342107],\n",
       "               [ 0.14269167,  0.0055981 ,  0.27061704,  0.19526495,\n",
       "                -0.5933554 ],\n",
       "               [ 0.6213056 , -0.61469084,  0.04832337, -0.02115068,\n",
       "                 0.1297735 ],\n",
       "               [ 0.20668189, -0.03091113, -0.17350008, -0.12020119,\n",
       "                -0.5258765 ],\n",
       "               [-0.5250607 ,  0.29690045,  0.5325081 , -0.12721153,\n",
       "                -0.05707901],\n",
       "               [ 0.3932148 ,  0.02470948, -0.17474599, -0.4096663 ,\n",
       "                -0.1654451 ],\n",
       "               [ 0.5139211 , -0.00969588, -0.08668266,  0.39069012,\n",
       "                 0.02172046],\n",
       "               [-0.5894855 , -0.08789891,  0.12177308, -0.15530352,\n",
       "                -0.53401613]], dtype=float32),\n",
       "  'bias': DeviceArray([0., 0., 0., 0., 0.], dtype=float32)}}"
      ]
     },
     "execution_count": 5,
     "metadata": {},
     "output_type": "execute_result"
    }
   ],
   "source": [
    "@dataclasses.dataclass\n",
    "class Dense2(nn.base.Module):\n",
    "  features: Any\n",
    "  bias: bool = True\n",
    "  dtype: Any = jnp.float32\n",
    "  precision: Any = None\n",
    "  kernel_init: Any = nn.linear.default_kernel_init\n",
    "  bias_init: Any = nn.initializers.zeros\n",
    "  name: Optional[str] = None\n",
    "\n",
    "  def apply(self, inputs):\n",
    "    inputs = jnp.asarray(inputs, self.dtype)\n",
    "    kernel = self.param('kernel', (inputs.shape[-1], self.features), self.kernel_init)\n",
    "    kernel = jnp.asarray(kernel, self.dtype)\n",
    "    y = lax.dot_general(inputs, kernel,\n",
    "                        (((inputs.ndim - 1,), (0,)), ((), ())),\n",
    "                        precision=self.precision)\n",
    "    if self.bias:\n",
    "      bias = self.param('bias', (self.features,), self.bias_init)\n",
    "      bias = jnp.asarray(bias, self.dtype)\n",
    "      y = y + bias\n",
    "    return y\n",
    "  \n",
    "class Test2(nn.Module):\n",
    "  def __init__(self, features):\n",
    "    self.features = features\n",
    "  def apply(self, x):\n",
    "    y = Dense2(self.features, name='foo')(x)\n",
    "    return y\n",
    "\n",
    "out, ps = Test2(5).init(random.PRNGKey(0), jnp.zeros((2,10)))\n",
    "ps"
   ]
  },
  {
   "cell_type": "code",
   "execution_count": 6,
   "metadata": {},
   "outputs": [
    {
     "data": {
      "text/plain": [
       "(DeviceArray([[-1.9115574 ,  2.5983858 , -0.3795683 , -0.67614144,\n",
       "                0.2463553 ,  1.2554313 ],\n",
       "              [-1.9115574 ,  2.5983858 , -0.3795683 , -0.67614144,\n",
       "                0.2463553 ,  1.2554313 ]], dtype=float32),\n",
       " {'dense1': {'kernel': DeviceArray([[-0.42626938, -0.06291714,  0.40380943,  0.33022466,\n",
       "                 -0.44087473],\n",
       "                [ 0.14540413, -0.16723464,  0.372912  , -0.14302   ,\n",
       "                  0.33056796],\n",
       "                [-0.13415512, -0.08430405,  0.33054024, -0.00531342,\n",
       "                  0.49308527],\n",
       "                [ 0.12483141,  0.5022159 ,  0.05051188, -0.47747606,\n",
       "                 -0.08046041],\n",
       "                [ 0.10952947,  0.3962143 ,  0.61411387, -0.06005407,\n",
       "                 -0.26729408],\n",
       "                [ 0.5076167 ,  0.0774442 ,  0.54077667, -0.26842186,\n",
       "                 -0.24723075],\n",
       "                [-0.05678061, -0.64803886,  0.14430496,  0.05134998,\n",
       "                 -0.03412019],\n",
       "                [-0.09557235,  0.45958194, -0.04055655,  0.6842091 ,\n",
       "                  0.28904867],\n",
       "                [ 0.34298617,  0.07379756, -0.5520766 , -0.4631825 ,\n",
       "                  0.4163055 ],\n",
       "                [-0.13763581,  0.14039777,  0.367441  , -0.47176048,\n",
       "                  0.41964194]], dtype=float32),\n",
       "   'bias': DeviceArray([0., 0., 0., 0., 0.], dtype=float32)},\n",
       "  'dense2': {'kernel': DeviceArray([[-0.64551085, -0.12326042,  0.17268452,  0.19451004,\n",
       "                 -0.4008563 , -0.7664582 ],\n",
       "                [-0.41455358,  0.8361385 , -0.5368653 ,  0.39189467,\n",
       "                  0.4158125 ,  0.31076708],\n",
       "                [-0.4949071 ,  0.50479287, -0.12546368, -0.11297443,\n",
       "                  0.1212827 ,  0.86198354],\n",
       "                [-0.14381443, -0.39681143, -0.13934977,  0.6491461 ,\n",
       "                  0.42185432,  0.6999296 ],\n",
       "                [-0.4499194 ,  0.70256644,  0.10127843, -0.26479807,\n",
       "                  0.21581712, -0.01627111]], dtype=float32),\n",
       "   'bias': DeviceArray([0., 0., 0., 0., 0., 0.], dtype=float32)}})"
      ]
     },
     "execution_count": 6,
     "metadata": {},
     "output_type": "execute_result"
    }
   ],
   "source": [
    "@dataclasses.dataclass\n",
    "class Dense3(nn.base.Module):\n",
    "  features: Any\n",
    "  bias: bool = True\n",
    "  dtype: Any = jnp.float32\n",
    "  precision: Any = None\n",
    "  kernel_init: Any = nn.linear.default_kernel_init\n",
    "  bias_init: Any = nn.initializers.zeros\n",
    "  name: Optional[str] = None\n",
    "\n",
    "  def apply(self, inputs):\n",
    "    inputs = jnp.asarray(inputs, self.dtype)\n",
    "    kernel = self.param('kernel', (inputs.shape[-1], self.features), self.kernel_init)\n",
    "    kernel = jnp.asarray(kernel, self.dtype)\n",
    "    y = lax.dot_general(inputs, kernel,\n",
    "                        (((inputs.ndim - 1,), (0,)), ((), ())),\n",
    "                        precision=self.precision)\n",
    "    if self.bias:\n",
    "      bias = self.param('bias', (self.features,), self.bias_init)\n",
    "      bias = jnp.asarray(bias, self.dtype)\n",
    "      y = y + bias\n",
    "    return y\n",
    "  \n",
    "\n",
    "class Test3(nn.Module):\n",
    "  def __init__(self, features1, features2):\n",
    "    self.features1 = features1\n",
    "    self.features2 = features2\n",
    "    self.dense1 = Dense3(features1, name='dense1')\n",
    "    self.dense2 = Dense3(features2, name='dense2')\n",
    "  def apply(self, x):\n",
    "    y = self.dense1(x)\n",
    "    z = self.dense2(y)\n",
    "    return z\n",
    "\n",
    "out, ps = Test3(5,6).init(random.PRNGKey(0), jnp.ones((2,10)))\n",
    "out, ps"
   ]
  },
  {
   "cell_type": "code",
   "execution_count": 7,
   "metadata": {},
   "outputs": [
    {
     "data": {
      "text/plain": [
       "(DeviceArray([[-1.9115574 ,  2.5983858 , -0.3795683 , -0.67614144,\n",
       "                0.2463553 ,  1.2554313 ],\n",
       "              [-1.9115574 ,  2.5983858 , -0.3795683 , -0.67614144,\n",
       "                0.2463553 ,  1.2554313 ]], dtype=float32),\n",
       " {'Test3_0': {},\n",
       "  'dense1': {'kernel': DeviceArray([[-0.42626938, -0.06291714,  0.40380943,  0.33022466,\n",
       "                 -0.44087473],\n",
       "                [ 0.14540413, -0.16723464,  0.372912  , -0.14302   ,\n",
       "                  0.33056796],\n",
       "                [-0.13415512, -0.08430405,  0.33054024, -0.00531342,\n",
       "                  0.49308527],\n",
       "                [ 0.12483141,  0.5022159 ,  0.05051188, -0.47747606,\n",
       "                 -0.08046041],\n",
       "                [ 0.10952947,  0.3962143 ,  0.61411387, -0.06005407,\n",
       "                 -0.26729408],\n",
       "                [ 0.5076167 ,  0.0774442 ,  0.54077667, -0.26842186,\n",
       "                 -0.24723075],\n",
       "                [-0.05678061, -0.64803886,  0.14430496,  0.05134998,\n",
       "                 -0.03412019],\n",
       "                [-0.09557235,  0.45958194, -0.04055655,  0.6842091 ,\n",
       "                  0.28904867],\n",
       "                [ 0.34298617,  0.07379756, -0.5520766 , -0.4631825 ,\n",
       "                  0.4163055 ],\n",
       "                [-0.13763581,  0.14039777,  0.367441  , -0.47176048,\n",
       "                  0.41964194]], dtype=float32),\n",
       "   'bias': DeviceArray([0., 0., 0., 0., 0.], dtype=float32)},\n",
       "  'dense2': {'kernel': DeviceArray([[-0.64551085, -0.12326042,  0.17268452,  0.19451004,\n",
       "                 -0.4008563 , -0.7664582 ],\n",
       "                [-0.41455358,  0.8361385 , -0.5368653 ,  0.39189467,\n",
       "                  0.4158125 ,  0.31076708],\n",
       "                [-0.4949071 ,  0.50479287, -0.12546368, -0.11297443,\n",
       "                  0.1212827 ,  0.86198354],\n",
       "                [-0.14381443, -0.39681143, -0.13934977,  0.6491461 ,\n",
       "                  0.42185432,  0.6999296 ],\n",
       "                [-0.4499194 ,  0.70256644,  0.10127843, -0.26479807,\n",
       "                  0.21581712, -0.01627111]], dtype=float32),\n",
       "   'bias': DeviceArray([0., 0., 0., 0., 0., 0.], dtype=float32)}})"
      ]
     },
     "execution_count": 7,
     "metadata": {},
     "output_type": "execute_result"
    }
   ],
   "source": [
    "@dataclasses.dataclass\n",
    "class Dense3(nn.base.Module):\n",
    "  features: Any\n",
    "  bias: bool = True\n",
    "  dtype: Any = jnp.float32\n",
    "  precision: Any = None\n",
    "  kernel_init: Any = nn.linear.default_kernel_init\n",
    "  bias_init: Any = nn.initializers.zeros\n",
    "  name: Optional[str] = None\n",
    "\n",
    "  def apply(self, inputs):\n",
    "    inputs = jnp.asarray(inputs, self.dtype)\n",
    "    kernel = self.param('kernel', (inputs.shape[-1], self.features), self.kernel_init)\n",
    "    kernel = jnp.asarray(kernel, self.dtype)\n",
    "    y = lax.dot_general(inputs, kernel,\n",
    "                        (((inputs.ndim - 1,), (0,)), ((), ())),\n",
    "                        precision=self.precision)\n",
    "    if self.bias:\n",
    "      bias = self.param('bias', (self.features,), self.bias_init)\n",
    "      bias = jnp.asarray(bias, self.dtype)\n",
    "      y = y + bias\n",
    "    return y\n",
    "  \n",
    "\n",
    "class Test3(nn.Module):\n",
    "  def __init__(self, features1, features2):\n",
    "    self.features1 = features1\n",
    "    self.features2 = features2\n",
    "    self.dense1 = Dense3(features1, name='dense1')\n",
    "    self.dense2 = Dense3(features2, name='dense2')\n",
    "  def apply(self, x):\n",
    "    y = self.dense1(x)\n",
    "    z = self.dense2(y)\n",
    "    return z\n",
    "\n",
    "class Test4(nn.Module):\n",
    "  def __init__(self, features1, features2):\n",
    "    self.features1 = features1\n",
    "    self.features2 = features2\n",
    "  def apply(self, x):\n",
    "    return Test3(self.features1, self.features2)(x)\n",
    "\n",
    "out, ps = Test4(5,6).init(random.PRNGKey(0), jnp.ones((2,10)))\n",
    "out, ps"
   ]
  },
  {
   "cell_type": "code",
   "execution_count": 8,
   "metadata": {},
   "outputs": [
    {
     "data": {
      "text/plain": [
       "(DeviceArray([[-1.9115574 ,  2.5983858 , -0.3795683 , -0.67614144,\n",
       "                0.2463553 ,  1.2554313 ],\n",
       "              [-1.9115574 ,  2.5983858 , -0.3795683 , -0.67614144,\n",
       "                0.2463553 ,  1.2554313 ]], dtype=float32),\n",
       " {'dense1': {'kernel': DeviceArray([[-0.42626938, -0.06291714,  0.40380943,  0.33022466,\n",
       "                 -0.44087473],\n",
       "                [ 0.14540413, -0.16723464,  0.372912  , -0.14302   ,\n",
       "                  0.33056796],\n",
       "                [-0.13415512, -0.08430405,  0.33054024, -0.00531342,\n",
       "                  0.49308527],\n",
       "                [ 0.12483141,  0.5022159 ,  0.05051188, -0.47747606,\n",
       "                 -0.08046041],\n",
       "                [ 0.10952947,  0.3962143 ,  0.61411387, -0.06005407,\n",
       "                 -0.26729408],\n",
       "                [ 0.5076167 ,  0.0774442 ,  0.54077667, -0.26842186,\n",
       "                 -0.24723075],\n",
       "                [-0.05678061, -0.64803886,  0.14430496,  0.05134998,\n",
       "                 -0.03412019],\n",
       "                [-0.09557235,  0.45958194, -0.04055655,  0.6842091 ,\n",
       "                  0.28904867],\n",
       "                [ 0.34298617,  0.07379756, -0.5520766 , -0.4631825 ,\n",
       "                  0.4163055 ],\n",
       "                [-0.13763581,  0.14039777,  0.367441  , -0.47176048,\n",
       "                  0.41964194]], dtype=float32),\n",
       "   'bias': DeviceArray([0., 0., 0., 0., 0.], dtype=float32)},\n",
       "  'dense2': {'kernel': DeviceArray([[-0.64551085, -0.12326042,  0.17268452,  0.19451004,\n",
       "                 -0.4008563 , -0.7664582 ],\n",
       "                [-0.41455358,  0.8361385 , -0.5368653 ,  0.39189467,\n",
       "                  0.4158125 ,  0.31076708],\n",
       "                [-0.4949071 ,  0.50479287, -0.12546368, -0.11297443,\n",
       "                  0.1212827 ,  0.86198354],\n",
       "                [-0.14381443, -0.39681143, -0.13934977,  0.6491461 ,\n",
       "                  0.42185432,  0.6999296 ],\n",
       "                [-0.4499194 ,  0.70256644,  0.10127843, -0.26479807,\n",
       "                  0.21581712, -0.01627111]], dtype=float32),\n",
       "   'bias': DeviceArray([0., 0., 0., 0., 0., 0.], dtype=float32)}})"
      ]
     },
     "execution_count": 8,
     "metadata": {},
     "output_type": "execute_result"
    }
   ],
   "source": [
    "@dataclasses.dataclass\n",
    "class Dense3(nn.base.Module):\n",
    "  features: Any\n",
    "  bias: bool = True\n",
    "  dtype: Any = jnp.float32\n",
    "  precision: Any = None\n",
    "  kernel_init: Any = nn.linear.default_kernel_init\n",
    "  bias_init: Any = nn.initializers.zeros\n",
    "  name: Optional[str] = None\n",
    "\n",
    "  def apply(self, inputs):\n",
    "    inputs = jnp.asarray(inputs, self.dtype)\n",
    "    kernel = self.param('kernel', (inputs.shape[-1], self.features), self.kernel_init)\n",
    "    kernel = jnp.asarray(kernel, self.dtype)\n",
    "    y = lax.dot_general(inputs, kernel,\n",
    "                        (((inputs.ndim - 1,), (0,)), ((), ())),\n",
    "                        precision=self.precision)\n",
    "    if self.bias:\n",
    "      bias = self.param('bias', (self.features,), self.bias_init)\n",
    "      bias = jnp.asarray(bias, self.dtype)\n",
    "      y = y + bias\n",
    "    return y\n",
    "  \n",
    "\n",
    "class Test3(nn.Module):\n",
    "  def __init__(self, features1, features2):\n",
    "    self.features1 = features1\n",
    "    self.features2 = features2\n",
    "    self.dense1 = Dense3(features1, name='dense1')\n",
    "    self.dense2 = Dense3(features2, name='dense2')\n",
    "  def apply(self, x):\n",
    "    y = self.dense1(x)\n",
    "    z = self.dense2(y)\n",
    "    return z\n",
    "\n",
    "class Test4B(nn.Module):\n",
    "  def __init__(self, features1, features2):\n",
    "    self.features1 = features1\n",
    "    self.features2 = features2\n",
    "  def apply(self, x):\n",
    "    foo = Test3(self.features1, self.features2)\n",
    "    y = foo.dense1(x)\n",
    "    z = foo.dense2(y)\n",
    "    return z\n",
    "\n",
    "out, ps = Test4B(5,6).init(random.PRNGKey(0), jnp.ones((2,10)))\n",
    "out, ps"
   ]
  },
  {
   "cell_type": "code",
   "execution_count": 9,
   "metadata": {},
   "outputs": [
    {
     "data": {
      "text/plain": [
       "(DeviceArray([[-1.5921555 ,  1.188596  , -0.07304752, -0.37646374,\n",
       "                1.2482803 ],\n",
       "              [-1.5921555 ,  1.188596  , -0.07304752, -0.37646374,\n",
       "                1.2482803 ]], dtype=float32),\n",
       " {'Dense4_0': {'kernel': DeviceArray([[-0.47091374,  0.09043506, -0.16986158, -0.21362929,\n",
       "                  0.08007418],\n",
       "                [ 0.02333571,  0.37424016, -0.05719709, -0.6167285 ,\n",
       "                  0.42275217],\n",
       "                [-0.02646606,  0.02812342, -0.22342944, -0.12702377,\n",
       "                  0.0442283 ],\n",
       "                [-0.2525671 , -0.4441997 ,  0.63238686,  0.43041742,\n",
       "                  0.24849077],\n",
       "                [ 0.24469043,  0.6967543 , -0.56817603,  0.12195345,\n",
       "                 -0.40280253],\n",
       "                [-0.20533426, -0.31543225,  0.7004032 , -0.0535217 ,\n",
       "                  0.43746766],\n",
       "                [-0.1504282 ,  0.00358135, -0.48300853,  0.27886078,\n",
       "                  0.32903156],\n",
       "                [-0.24473916,  0.40362647, -0.0749376 ,  0.5876811 ,\n",
       "                  0.51741576],\n",
       "                [-0.16383822,  0.13037243,  0.3988151 , -0.45549965,\n",
       "                  0.03775118],\n",
       "                [-0.3458948 ,  0.22109479, -0.22804251, -0.32897362,\n",
       "                 -0.46612886]], dtype=float32),\n",
       "   'bias': DeviceArray([0., 0., 0., 0., 0.], dtype=float32)}},\n",
       " {'/Dense4_0': {'foozy': DeviceArray([0., 0., 0., 0., 0.], dtype=float32)}})"
      ]
     },
     "execution_count": 9,
     "metadata": {},
     "output_type": "execute_result"
    }
   ],
   "source": [
    "@dataclasses.dataclass\n",
    "class Dense4(nn.base.Module):\n",
    "  features: Any\n",
    "  bias: bool = True\n",
    "  dtype: Any = jnp.float32\n",
    "  precision: Any = None\n",
    "  kernel_init: Any = nn.linear.default_kernel_init\n",
    "  bias_init: Any = nn.initializers.zeros\n",
    "  name: Optional[str] = None\n",
    "\n",
    "  def apply(self, inputs):\n",
    "    inputs = jnp.asarray(inputs, self.dtype)\n",
    "    kernel = self.param('kernel', (inputs.shape[-1], self.features), self.kernel_init)\n",
    "    kernel = jnp.asarray(kernel, self.dtype)\n",
    "    y = lax.dot_general(inputs, kernel,\n",
    "                        (((inputs.ndim - 1,), (0,)), ((), ())),\n",
    "                        precision=self.precision)\n",
    "    if self.bias:\n",
    "      bias = self.param('bias', (self.features,), self.bias_init)\n",
    "      bias = jnp.asarray(bias, self.dtype)\n",
    "      y = y + bias\n",
    "    \n",
    "    if self.is_stateful():\n",
    "      foozy = self.state('foozy', (self.features,), nn.initializers.zeros)\n",
    "    \n",
    "    #if ra_mean and not self.is_initializing():\n",
    "    #    ra_mean.value = momentum *\n",
    "\n",
    "    return y\n",
    "  \n",
    "\n",
    "class Test5(nn.Module):\n",
    "  def __init__(self, features1):\n",
    "    self.features1 = features1\n",
    "  def apply(self, x):\n",
    "    y = Dense4(self.features1)(x)\n",
    "    return y\n",
    "\n",
    "with nn.stateful() as mystate:\n",
    "  out, ps = Test5(5,).init(random.PRNGKey(0), jnp.ones((2,10)))\n",
    "out, ps, mystate.as_dict()"
   ]
  },
  {
   "cell_type": "code",
   "execution_count": 25,
   "metadata": {},
   "outputs": [],
   "source": [
    "# @dataclasses.dataclass\n",
    "# class Dense4(nn.base.Module):\n",
    "#   features: Any\n",
    "#   dtype: Any = jnp.float32\n",
    "#   precision: Any = None\n",
    "#   kernel_init: Any = nn.linear.default_kernel_init\n",
    "#   name: Optional[str] = None\n",
    "\n",
    "#   def apply(self, inputs, kernel):\n",
    "#     inputs = jnp.asarray(inputs, self.dtype)\n",
    "#     #kernel = self.param('kernel', (inputs.shape[-1], self.features), self.kernel_init)\n",
    "#     kernel = jnp.asarray(kernel, self.dtype)\n",
    "#     y = lax.dot_general(inputs, kernel,\n",
    "#                         (((inputs.ndim - 1,), (0,)), ((), ())),\n",
    "#                         precision=self.precision)\n",
    "#     return y\n",
    "  \n",
    "\n",
    "# class Test6(nn.Module):\n",
    "#   def __init__(self, features):\n",
    "#     self.features1 = features\n",
    "#     self.kernel = self.param('kernel', (inputs.shape[-1], self.features), self.kernel_init)\n",
    "#   def apply(self, x):\n",
    "#     dense1 = Dense4(self.features, name='dense1')\n",
    "#     y = self.dense1(x)\n",
    "#     return y\n",
    "\n",
    "\n",
    "# out, ps = Test6(5).init(random.PRNGKey(0), jnp.ones((2,10)))\n",
    "# out, ps"
   ]
  },
  {
   "cell_type": "code",
   "execution_count": 7,
   "metadata": {},
   "outputs": [
    {
     "data": {
      "text/plain": [
       "{'dense1': {'embedding': DeviceArray([[ 1.416723  ,  0.16531888,  0.10706943,  0.5320725 ,\n",
       "                -0.10211876, -0.29975113],\n",
       "               [-0.1470003 , -0.45749977, -0.7383676 ,  0.27804258,\n",
       "                 0.10447809,  0.9122795 ],\n",
       "               [-0.5567987 ,  0.1571464 , -0.34816185,  0.13065961,\n",
       "                 0.27868086,  0.67595154],\n",
       "               [-0.11101791, -0.03295673, -0.00768143,  0.02355739,\n",
       "                 0.17809768,  0.06071883],\n",
       "               [-0.6315027 ,  0.01562952, -0.49238253,  0.69700044,\n",
       "                -0.22588246, -0.48937613]], dtype=float32)}}"
      ]
     },
     "execution_count": 7,
     "metadata": {},
     "output_type": "execute_result"
    }
   ],
   "source": [
    "@dataclasses.dataclass\n",
    "class EmbedTest(nn.Module):\n",
    "  num_embeddings: int\n",
    "  features: int\n",
    "  name: str\n",
    "  def apply(self, x):\n",
    "    emb = nn.Embed(self.num_embeddings, self.features, name='dense1')\n",
    "    y = emb(x)\n",
    "    z = emb.attend(jnp.ones((3, self.features), np.float32))\n",
    "    return y, z\n",
    "\n",
    "out, ps = EmbedTest(5,6,name='foo').init(random.PRNGKey(0), jnp.ones((2,10), np.int32))\n",
    "ps"
   ]
  },
  {
   "cell_type": "code",
   "execution_count": 3,
   "metadata": {},
   "outputs": [
    {
     "data": {
      "text/plain": [
       "{'dense1': {'kernel': DeviceArray([[-0.42626938, -0.06291714,  0.40380943,  0.33022466,\n",
       "                -0.44087473],\n",
       "               [ 0.14540413, -0.16723464,  0.372912  , -0.14302   ,\n",
       "                 0.33056796],\n",
       "               [-0.13415512, -0.08430405,  0.33054024, -0.00531342,\n",
       "                 0.49308527],\n",
       "               [ 0.12483141,  0.5022159 ,  0.05051188, -0.47747606,\n",
       "                -0.08046041],\n",
       "               [ 0.10952947,  0.3962143 ,  0.61411387, -0.06005407,\n",
       "                -0.26729408],\n",
       "               [ 0.5076167 ,  0.0774442 ,  0.54077667, -0.26842186,\n",
       "                -0.24723075],\n",
       "               [-0.05678061, -0.64803886,  0.14430496,  0.05134998,\n",
       "                -0.03412019],\n",
       "               [-0.09557235,  0.45958194, -0.04055655,  0.6842091 ,\n",
       "                 0.28904867],\n",
       "               [ 0.34298617,  0.07379756, -0.5520766 , -0.4631825 ,\n",
       "                 0.4163055 ],\n",
       "               [-0.13763581,  0.14039777,  0.367441  , -0.47176048,\n",
       "                 0.41964194]], dtype=float32),\n",
       "  'bias': DeviceArray([0., 0., 0., 0., 0.], dtype=float32)}}"
      ]
     },
     "execution_count": 3,
     "metadata": {},
     "output_type": "execute_result"
    }
   ],
   "source": [
    "@dataclasses.dataclass\n",
    "class DenseTest(nn.Module):\n",
    "  features: int\n",
    "  name: str\n",
    "  def apply(self, x):\n",
    "    return nn.Dense(self.features, name='dense1')(x)\n",
    "\n",
    "out, ps = DenseTest(5, name='foo').init(random.PRNGKey(0), jnp.ones((2,10)))\n",
    "ps"
   ]
  },
  {
   "cell_type": "code",
   "execution_count": 2,
   "metadata": {},
   "outputs": [
    {
     "name": "stderr",
     "output_type": "stream",
     "text": [
      "/Users/levskaya/repos/aljax/jax/lib/xla_bridge.py:116: UserWarning: No GPU/TPU found, falling back to CPU.\n",
      "  warnings.warn('No GPU/TPU found, falling back to CPU.')\n"
     ]
    },
    {
     "data": {
      "text/plain": [
       "{'dense1': {'kernel': DeviceArray([[-0.42626938, -0.06291714,  0.40380943,  0.33022466,\n",
       "                -0.44087473],\n",
       "               [ 0.14540413, -0.16723464,  0.372912  , -0.14302   ,\n",
       "                 0.33056796],\n",
       "               [-0.13415512, -0.08430405,  0.33054024, -0.00531342,\n",
       "                 0.49308527],\n",
       "               [ 0.12483141,  0.5022159 ,  0.05051188, -0.47747606,\n",
       "                -0.08046041],\n",
       "               [ 0.10952947,  0.3962143 ,  0.61411387, -0.06005407,\n",
       "                -0.26729408],\n",
       "               [ 0.5076167 ,  0.0774442 ,  0.54077667, -0.26842186,\n",
       "                -0.24723075],\n",
       "               [-0.05678061, -0.64803886,  0.14430496,  0.05134998,\n",
       "                -0.03412019],\n",
       "               [-0.09557235,  0.45958194, -0.04055655,  0.6842091 ,\n",
       "                 0.28904867],\n",
       "               [ 0.34298617,  0.07379756, -0.5520766 , -0.4631825 ,\n",
       "                 0.4163055 ],\n",
       "               [-0.13763581,  0.14039777,  0.367441  , -0.47176048,\n",
       "                 0.41964194]], dtype=float32),\n",
       "  'bias': DeviceArray([0., 0., 0., 0., 0.], dtype=float32)}}"
      ]
     },
     "execution_count": 2,
     "metadata": {},
     "output_type": "execute_result"
    }
   ],
   "source": [
    "@dataclasses.dataclass\n",
    "class DenseTest(nn.Module):\n",
    "  features: int\n",
    "  name: str\n",
    "  def apply(self, x):\n",
    "    return nn.DenseGeneral(self.features, name='dense1')(x)\n",
    "\n",
    "out, ps = DenseTest(5, name='foo').init(random.PRNGKey(0), jnp.ones((2,10)))\n",
    "ps"
   ]
  },
  {
   "cell_type": "code",
   "execution_count": 5,
   "metadata": {},
   "outputs": [
    {
     "name": "stdout",
     "output_type": "stream",
     "text": [
      "> \u001b[0;32m/Users/levskaya/repos/alflax/flax/nn/linear.py\u001b[0m(78)\u001b[0;36m__init__\u001b[0;34m()\u001b[0m\n",
      "\u001b[0;32m     76 \u001b[0;31m      \u001b[0mself\u001b[0m\u001b[0;34m.\u001b[0m\u001b[0mbatch_dims\u001b[0m \u001b[0;34m=\u001b[0m \u001b[0;34m(\u001b[0m\u001b[0mself\u001b[0m\u001b[0;34m.\u001b[0m\u001b[0mbatch_dims\u001b[0m\u001b[0;34m,\u001b[0m\u001b[0;34m)\u001b[0m\u001b[0;34m\u001b[0m\u001b[0;34m\u001b[0m\u001b[0m\n",
      "\u001b[0m\u001b[0;32m     77 \u001b[0;31m    \u001b[0mself\u001b[0m\u001b[0;34m.\u001b[0m\u001b[0mfeatures\u001b[0m \u001b[0;34m=\u001b[0m \u001b[0mtuple\u001b[0m\u001b[0;34m(\u001b[0m\u001b[0mself\u001b[0m\u001b[0;34m.\u001b[0m\u001b[0mfeatures\u001b[0m\u001b[0;34m)\u001b[0m\u001b[0;34m\u001b[0m\u001b[0;34m\u001b[0m\u001b[0m\n",
      "\u001b[0m\u001b[0;32m---> 78 \u001b[0;31m    \u001b[0mself\u001b[0m\u001b[0;34m.\u001b[0m\u001b[0maxis\u001b[0m \u001b[0;34m=\u001b[0m \u001b[0mtuple\u001b[0m\u001b[0;34m(\u001b[0m\u001b[0maxis\u001b[0m\u001b[0;34m)\u001b[0m\u001b[0;34m\u001b[0m\u001b[0;34m\u001b[0m\u001b[0m\n",
      "\u001b[0m\u001b[0;32m     79 \u001b[0;31m    \u001b[0mself\u001b[0m\u001b[0;34m.\u001b[0m\u001b[0mbatch_dims\u001b[0m \u001b[0;34m=\u001b[0m \u001b[0mtuple\u001b[0m\u001b[0;34m(\u001b[0m\u001b[0mbatch_dims\u001b[0m\u001b[0;34m)\u001b[0m\u001b[0;34m\u001b[0m\u001b[0;34m\u001b[0m\u001b[0m\n",
      "\u001b[0m\u001b[0;32m     80 \u001b[0;31m    \u001b[0;32mif\u001b[0m \u001b[0mself\u001b[0m\u001b[0;34m.\u001b[0m\u001b[0mbatch_dims\u001b[0m\u001b[0;34m:\u001b[0m\u001b[0;34m\u001b[0m\u001b[0;34m\u001b[0m\u001b[0m\n",
      "\u001b[0m\n"
     ]
    },
    {
     "name": "stdin",
     "output_type": "stream",
     "text": [
      "ipdb>  p axis\n"
     ]
    },
    {
     "name": "stdout",
     "output_type": "stream",
     "text": [
      "-1\n"
     ]
    },
    {
     "name": "stdin",
     "output_type": "stream",
     "text": [
      "ipdb>  p self.axis\n"
     ]
    },
    {
     "name": "stdout",
     "output_type": "stream",
     "text": [
      "(-1,)\n"
     ]
    },
    {
     "name": "stdin",
     "output_type": "stream",
     "text": [
      "ipdb>  q\n"
     ]
    }
   ],
   "source": [
    "%debug"
   ]
  },
  {
   "cell_type": "code",
   "execution_count": null,
   "metadata": {},
   "outputs": [],
   "source": []
  }
 ],
 "metadata": {
  "kernelspec": {
   "display_name": "py36jax-venv",
   "language": "python",
   "name": "py36jax-venv"
  },
  "language_info": {
   "codemirror_mode": {
    "name": "ipython",
    "version": 3
   },
   "file_extension": ".py",
   "mimetype": "text/x-python",
   "name": "python",
   "nbconvert_exporter": "python",
   "pygments_lexer": "ipython3",
   "version": "3.6.8"
  }
 },
 "nbformat": 4,
 "nbformat_minor": 4
}
