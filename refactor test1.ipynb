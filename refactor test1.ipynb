{
 "cells": [
  {
   "cell_type": "code",
   "execution_count": 11,
   "metadata": {},
   "outputs": [],
   "source": [
    "import jax\n",
    "from jax import lax, random, numpy as jnp\n",
    "import numpy as np\n",
    "import flax\n",
    "from flax import nn\n",
    "import dataclasses\n",
    "\n",
    "from typing import Any, Optional"
   ]
  },
  {
   "cell_type": "code",
   "execution_count": 2,
   "metadata": {},
   "outputs": [],
   "source": [
    "# class Dense(base.Module):\n",
    "  \n",
    "#   def apply(self,\n",
    "#             inputs,\n",
    "#             features,\n",
    "#             bias=True,\n",
    "#             dtype=jnp.float32,\n",
    "#             precision=None,\n",
    "#             kernel_init=default_kernel_init,\n",
    "#             bias_init=initializers.zeros):\n",
    "#     inputs = jnp.asarray(inputs, dtype)\n",
    "#     kernel = self.param('kernel', (inputs.shape[-1], features), kernel_init)\n",
    "#     kernel = jnp.asarray(kernel, dtype)\n",
    "#     y = lax.dot_general(inputs, kernel,\n",
    "#                         (((inputs.ndim - 1,), (0,)), ((), ())),\n",
    "#                         precision=precision)\n",
    "#     if bias:\n",
    "#       bias = self.param('bias', (features,), bias_init)\n",
    "#       bias = jnp.asarray(bias, dtype)\n",
    "#       y = y + bias\n",
    "#     return y\n"
   ]
  },
  {
   "cell_type": "code",
   "execution_count": 3,
   "metadata": {},
   "outputs": [],
   "source": [
    "class Dense(nn.base.Module):\n",
    "  def __init__(self,           \n",
    "               features,\n",
    "               bias=True,\n",
    "               dtype=jnp.float32,\n",
    "               precision=None,\n",
    "               kernel_init=nn.linear.default_kernel_init,\n",
    "               bias_init=nn.initializers.zeros,\n",
    "               name=None):\n",
    "    self.features = features\n",
    "    self.bias = bias\n",
    "    self.dtype = dtype\n",
    "    self.precision = precision\n",
    "    self.kernel_init = kernel_init\n",
    "    self.bias_init = bias_init\n",
    "    self.name = name\n",
    "  def apply(self, inputs):\n",
    "    inputs = jnp.asarray(inputs, self.dtype)\n",
    "    kernel = self.param('kernel', (inputs.shape[-1], self.features), self.kernel_init)\n",
    "    kernel = jnp.asarray(kernel, self.dtype)\n",
    "    y = lax.dot_general(inputs, kernel,\n",
    "                        (((inputs.ndim - 1,), (0,)), ((), ())),\n",
    "                        precision=self.precision)\n",
    "    if self.bias:\n",
    "      bias = self.param('bias', (self.features,), self.bias_init)\n",
    "      bias = jnp.asarray(bias, self.dtype)\n",
    "      y = y + bias\n",
    "    return y"
   ]
  },
  {
   "cell_type": "code",
   "execution_count": 4,
   "metadata": {},
   "outputs": [
    {
     "name": "stderr",
     "output_type": "stream",
     "text": [
      "/Users/levskaya/repos/aljax/jax/lib/xla_bridge.py:116: UserWarning: No GPU/TPU found, falling back to CPU.\n",
      "  warnings.warn('No GPU/TPU found, falling back to CPU.')\n"
     ]
    }
   ],
   "source": [
    "class Test1(nn.Module):\n",
    "  def __init__(self, features):\n",
    "    self.features = features\n",
    "  def apply(self, x):\n",
    "    y = Dense(self.features, name='foo')(x)\n",
    "    return y\n",
    "\n",
    "frame = nn.base._ModuleFrame(None, rng=random.PRNGKey(0), parent=None)\n",
    "with nn.base._module_stack.frame(frame):\n",
    "  out, ps = Test1(10).init(random.PRNGKey(0), jnp.zeros((2,10)))\n",
    "  #print(nn.base._module_stack._stack.frames[0].params)"
   ]
  },
  {
   "cell_type": "code",
   "execution_count": 9,
   "metadata": {},
   "outputs": [],
   "source": [
    "frame = nn.base._ModuleFrame(None, rng=random.PRNGKey(0), parent=None)\n",
    "with nn.base._module_stack.frame(frame):\n",
    "  out, ps = Test1(2).init_by_shape(random.PRNGKey(0), (((2,10), np.float32),))"
   ]
  },
  {
   "cell_type": "code",
   "execution_count": 10,
   "metadata": {},
   "outputs": [
    {
     "data": {
      "text/plain": [
       "{'foo': {'bias': DeviceArray([0., 0.], dtype=float32),\n",
       "  'kernel': DeviceArray([[-0.4599581 ,  0.20015173],\n",
       "               [-0.27465212, -0.08700371],\n",
       "               [-0.06366538, -0.09729218],\n",
       "               [-0.12015642, -0.4313587 ],\n",
       "               [-0.02870374,  0.10679117],\n",
       "               [-0.32761663, -0.06075426],\n",
       "               [ 0.03170891, -0.49054202],\n",
       "               [ 0.3635096 ,  0.3704213 ],\n",
       "               [-0.18155588,  0.52057534],\n",
       "               [ 0.29326665,  0.04858123]], dtype=float32)}}"
      ]
     },
     "execution_count": 10,
     "metadata": {},
     "output_type": "execute_result"
    }
   ],
   "source": [
    "ps"
   ]
  },
  {
   "cell_type": "code",
   "execution_count": 25,
   "metadata": {},
   "outputs": [
    {
     "data": {
      "text/plain": [
       "{'foo': {'kernel': DeviceArray([[-0.2529256 ,  0.26981813,  0.30638131, -0.08274508,\n",
       "                -0.08477998],\n",
       "               [-0.08519974, -0.12731075,  0.18377769,  0.12409567,\n",
       "                 0.6234259 ],\n",
       "               [-0.08067774, -0.35942018,  0.13299485,  0.23421109,\n",
       "                 0.17342107],\n",
       "               [ 0.14269167,  0.0055981 ,  0.27061704,  0.19526495,\n",
       "                -0.5933554 ],\n",
       "               [ 0.6213056 , -0.61469084,  0.04832337, -0.02115068,\n",
       "                 0.1297735 ],\n",
       "               [ 0.20668189, -0.03091113, -0.17350008, -0.12020119,\n",
       "                -0.5258765 ],\n",
       "               [-0.5250607 ,  0.29690045,  0.5325081 , -0.12721153,\n",
       "                -0.05707901],\n",
       "               [ 0.3932148 ,  0.02470948, -0.17474599, -0.4096663 ,\n",
       "                -0.1654451 ],\n",
       "               [ 0.5139211 , -0.00969588, -0.08668266,  0.39069012,\n",
       "                 0.02172046],\n",
       "               [-0.5894855 , -0.08789891,  0.12177308, -0.15530352,\n",
       "                -0.53401613]], dtype=float32),\n",
       "  'bias': DeviceArray([0., 0., 0., 0., 0.], dtype=float32)}}"
      ]
     },
     "execution_count": 25,
     "metadata": {},
     "output_type": "execute_result"
    }
   ],
   "source": [
    "@dataclasses.dataclass\n",
    "class Dense2(nn.base.Module):\n",
    "  features: Any\n",
    "  bias: bool = True\n",
    "  dtype: Any = jnp.float32\n",
    "  precision: Any = None\n",
    "  kernel_init: Any = nn.linear.default_kernel_init\n",
    "  bias_init: Any = nn.initializers.zeros\n",
    "  name: Optional[str] = None\n",
    "  def apply(self, inputs):\n",
    "    inputs = jnp.asarray(inputs, self.dtype)\n",
    "    kernel = self.param('kernel', (inputs.shape[-1], self.features), self.kernel_init)\n",
    "    kernel = jnp.asarray(kernel, self.dtype)\n",
    "    y = lax.dot_general(inputs, kernel,\n",
    "                        (((inputs.ndim - 1,), (0,)), ((), ())),\n",
    "                        precision=self.precision)\n",
    "    if self.bias:\n",
    "      bias = self.param('bias', (self.features,), self.bias_init)\n",
    "      bias = jnp.asarray(bias, self.dtype)\n",
    "      y = y + bias\n",
    "    return y\n",
    "  \n",
    "class Test2(nn.Module):\n",
    "  def __init__(self, features):\n",
    "    self.features = features\n",
    "  def apply(self, x):\n",
    "    y = Dense2(self.features, name='foo')(x)\n",
    "    return y\n",
    "\n",
    "frame = nn.base._ModuleFrame(None, rng=random.PRNGKey(0), parent=None)\n",
    "with nn.base._module_stack.frame(frame):\n",
    "  out, ps = Test2(5).init(random.PRNGKey(0), jnp.zeros((2,10)))\n",
    "  #print(nn.base._module_stack._stack.frames[0].params)\n",
    "ps"
   ]
  },
  {
   "cell_type": "code",
   "execution_count": null,
   "metadata": {},
   "outputs": [],
   "source": []
  }
 ],
 "metadata": {
  "kernelspec": {
   "display_name": "py36jax-venv",
   "language": "python",
   "name": "py36jax-venv"
  },
  "language_info": {
   "codemirror_mode": {
    "name": "ipython",
    "version": 3
   },
   "file_extension": ".py",
   "mimetype": "text/x-python",
   "name": "python",
   "nbconvert_exporter": "python",
   "pygments_lexer": "ipython3",
   "version": "3.6.8"
  }
 },
 "nbformat": 4,
 "nbformat_minor": 4
}
