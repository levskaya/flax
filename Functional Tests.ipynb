{
 "cells": [
  {
   "cell_type": "code",
   "execution_count": 1,
   "metadata": {},
   "outputs": [],
   "source": [
    "import functools\n",
    "from importlib import reload\n",
    "\n",
    "import jax\n",
    "from jax import random, lax, numpy as jnp\n",
    "import numpy as np\n",
    "\n",
    "import flax\n",
    "from flax import nn\n",
    "from flax import core\n",
    "from flax.core import Scope, init, apply, Array"
   ]
  },
  {
   "cell_type": "code",
   "execution_count": 2,
   "metadata": {},
   "outputs": [
    {
     "name": "stderr",
     "output_type": "stream",
     "text": [
      "/Users/levskaya/repos/aljax/jax/lib/xla_bridge.py:116: UserWarning: No GPU/TPU found, falling back to CPU.\n",
      "  warnings.warn('No GPU/TPU found, falling back to CPU.')\n"
     ]
    },
    {
     "name": "stdout",
     "output_type": "stream",
     "text": [
      "FrozenDict({'param': FrozenDict({'kernel': DeviceArray([[ 0.15374057, -0.6807397 , -1.3350962 ],\n",
      "             [ 0.59940743, -0.69430196, -0.7663768 ]], dtype=float32), 'bias': DeviceArray([0., 0., 0.], dtype=float32)})})\n"
     ]
    }
   ],
   "source": [
    "# def dense(scope: Scope, inputs: Array, features: int, bias: bool = True,\n",
    "#           kernel_init=nn.linear.default_kernel_init,\n",
    "#           bias_init=nn.initializers.zeros):\n",
    "#   kernel = scope.param('kernel', kernel_init, (inputs.shape[-1], features))\n",
    "#   y = jnp.dot(inputs, kernel)\n",
    "#   if bias:\n",
    "#     y += scope.param('bias', bias_init, (features,))\n",
    "#   return y\n",
    "dense = nn.dense\n",
    "\n",
    "model_fn = functools.partial(dense, features=3)\n",
    "x = jnp.ones((1, 2))\n",
    "y, params = init(model_fn)(random.PRNGKey(0), x)\n",
    "print(params)"
   ]
  },
  {
   "cell_type": "code",
   "execution_count": 3,
   "metadata": {},
   "outputs": [
    {
     "data": {
      "text/plain": [
       "(DeviceArray([[-0.00302252]], dtype=float32),\n",
       " FrozenDict({'param': FrozenDict({'hidden': FrozenDict({'kernel': DeviceArray([[-1.1642578 , -0.04300674,  0.33191404],\n",
       "              [-0.7799348 ,  0.24048047, -0.6054149 ]], dtype=float32), 'bias': DeviceArray([0., 0., 0.], dtype=float32)}), 'out': FrozenDict({'kernel': DeviceArray([[ 0.21448377],\n",
       "              [-0.01530595],\n",
       "              [ 0.14402702]], dtype=float32), 'bias': DeviceArray([0.], dtype=float32)})})}))"
      ]
     },
     "execution_count": 3,
     "metadata": {},
     "output_type": "execute_result"
    }
   ],
   "source": [
    "def mlp(scope: Scope, inputs: Array, features: int):\n",
    "  hscope = scope.push('hidden')\n",
    "  hidden = dense(hscope, inputs, features)\n",
    "  hidden = dense(hscope, inputs, features)\n",
    "  hidden = nn.relu(hidden)\n",
    "  return dense(scope.push('out'), hidden, 1)\n",
    "\n",
    "init(mlp)(random.PRNGKey(0), x, features=3)"
   ]
  },
  {
   "cell_type": "code",
   "execution_count": 4,
   "metadata": {},
   "outputs": [
    {
     "data": {
      "text/plain": [
       "(DeviceArray([[-0.00302252]], dtype=float32),\n",
       " FrozenDict({'param': FrozenDict({'hidden': FrozenDict({'kernel': DeviceArray([[-1.1642578 , -0.04300674,  0.33191404],\n",
       "              [-0.7799348 ,  0.24048047, -0.6054149 ]], dtype=float32), 'bias': DeviceArray([0., 0., 0.], dtype=float32)}), 'out': FrozenDict({'kernel': DeviceArray([[ 0.21448377],\n",
       "              [-0.01530595],\n",
       "              [ 0.14402702]], dtype=float32), 'bias': DeviceArray([0.], dtype=float32)})})}))"
      ]
     },
     "execution_count": 4,
     "metadata": {},
     "output_type": "execute_result"
    }
   ],
   "source": [
    "def mlp(scope: Scope, inputs: Array, features: int):\n",
    "  denselayer = functools.partial(dense, scope.push('hidden'))\n",
    "  hidden = denselayer(inputs, features)\n",
    "  hidden = denselayer(inputs, features)\n",
    "  hidden = nn.relu(hidden)\n",
    "  return dense(scope.push('out'), hidden, 1)\n",
    "\n",
    "init(mlp)(random.PRNGKey(0), x, features=3)"
   ]
  },
  {
   "cell_type": "code",
   "execution_count": 5,
   "metadata": {},
   "outputs": [
    {
     "data": {
      "text/plain": [
       "(DeviceArray([[0.44402555]], dtype=float32),\n",
       " FrozenDict({'param': FrozenDict({'dense__0': FrozenDict({'kernel': DeviceArray([[ 0.83161545, -0.2180224 ,  0.41811994],\n",
       "              [ 0.17165233, -0.14596988,  1.1707549 ]], dtype=float32), 'bias': DeviceArray([0., 0., 0.], dtype=float32)}), 'out': FrozenDict({'kernel': DeviceArray([[ 0.21448377],\n",
       "              [-0.01530595],\n",
       "              [ 0.14402702]], dtype=float32), 'bias': DeviceArray([0.], dtype=float32)})})}))"
      ]
     },
     "execution_count": 5,
     "metadata": {},
     "output_type": "execute_result"
    }
   ],
   "source": [
    "def mlp(scope: Scope, inputs: Array, features: int):\n",
    "  denselayer = scope.child(dense)\n",
    "  hidden = denselayer(inputs, features)\n",
    "  hidden = denselayer(inputs, features)\n",
    "  hidden = nn.relu(hidden)\n",
    "  return dense(scope.push('out'), hidden, 1)\n",
    "\n",
    "init(mlp)(random.PRNGKey(0), x, features=3)"
   ]
  },
  {
   "cell_type": "code",
   "execution_count": 6,
   "metadata": {},
   "outputs": [
    {
     "data": {
      "text/plain": [
       "(DeviceArray([[0.44402555]], dtype=float32),\n",
       " FrozenDict({'param': FrozenDict({'dense__0': FrozenDict({'kernel': DeviceArray([[ 0.83161545, -0.2180224 ,  0.41811994],\n",
       "              [ 0.17165233, -0.14596988,  1.1707549 ]], dtype=float32), 'bias': DeviceArray([0., 0., 0.], dtype=float32)}), 'out': FrozenDict({'kernel': DeviceArray([[ 0.21448377],\n",
       "              [-0.01530595],\n",
       "              [ 0.14402702]], dtype=float32), 'bias': DeviceArray([0.], dtype=float32)})})}))"
      ]
     },
     "execution_count": 6,
     "metadata": {},
     "output_type": "execute_result"
    }
   ],
   "source": [
    "def mlp(scope: Scope, inputs: Array, features: int):\n",
    "  denselayer = scope.child(dense)\n",
    "  hidden = denselayer(inputs, features)\n",
    "  hidden = denselayer(inputs, features)\n",
    "  hidden = nn.relu(hidden)\n",
    "  return dense(scope.push('out'), hidden, 1)\n",
    "\n",
    "init(mlp)(random.PRNGKey(0), x, features=3)"
   ]
  },
  {
   "cell_type": "markdown",
   "metadata": {},
   "source": [
    "### dense"
   ]
  },
  {
   "cell_type": "code",
   "execution_count": 7,
   "metadata": {},
   "outputs": [
    {
     "name": "stdout",
     "output_type": "stream",
     "text": [
      "FrozenDict({'param': FrozenDict({'kernel': DeviceArray([[ 0.15374057, -0.6807397 , -1.3350962 ],\n",
      "             [ 0.59940743, -0.69430196, -0.7663768 ]], dtype=float32), 'bias': DeviceArray([0., 0., 0.], dtype=float32)})})\n"
     ]
    }
   ],
   "source": [
    "model_fn = functools.partial(nn.dense_general, features=3)\n",
    "x = jnp.ones((1, 2))\n",
    "y, params = init(model_fn)(random.PRNGKey(0), x)\n",
    "print(params)"
   ]
  },
  {
   "cell_type": "markdown",
   "metadata": {},
   "source": [
    "### embedding"
   ]
  },
  {
   "cell_type": "code",
   "execution_count": 33,
   "metadata": {},
   "outputs": [
    {
     "name": "stdout",
     "output_type": "stream",
     "text": [
      "[[ 0.11575121 -0.51936364 -1.113899  ]\n",
      " [ 0.45569834 -0.5300623  -0.5873911 ]]\n",
      "[ 0.45569834 -0.5300623  -0.5873911 ]\n",
      "[[-1.5175114 -0.6617551]]\n"
     ]
    },
    {
     "data": {
      "text/plain": [
       "FrozenDict({'param': FrozenDict({'table': DeviceArray([[ 0.11575121, -0.51936364, -1.113899  ],\n",
       "             [ 0.45569834, -0.5300623 , -0.5873911 ]], dtype=float32)})})"
      ]
     },
     "execution_count": 33,
     "metadata": {},
     "output_type": "execute_result"
    }
   ],
   "source": [
    "embedding, v = init(nn.embedding)(random.PRNGKey(0), num_embeddings=2, features=3)\n",
    "print(embedding.table)\n",
    "print(embedding.lookup(1))\n",
    "print(embedding.attend(jnp.ones((1, 3,))))\n",
    "v"
   ]
  },
  {
   "cell_type": "markdown",
   "metadata": {},
   "source": [
    "### layernorm"
   ]
  },
  {
   "cell_type": "code",
   "execution_count": 9,
   "metadata": {},
   "outputs": [
    {
     "data": {
      "text/plain": [
       "(DeviceArray([[-0.2751354]], dtype=float32),\n",
       " FrozenDict({'param': FrozenDict({'hidden': FrozenDict({'kernel': DeviceArray([[-1.1642578 , -0.04300674,  0.33191404],\n",
       "              [-0.7799348 ,  0.24048047, -0.6054149 ]], dtype=float32), 'bias': DeviceArray([0., 0., 0.], dtype=float32)}), 'lnorm': FrozenDict({'scale': DeviceArray([1., 1., 1.], dtype=float32), 'bias': DeviceArray([0., 0., 0.], dtype=float32)}), 'out': FrozenDict({'kernel': DeviceArray([[ 0.21448377],\n",
       "              [-0.01530595],\n",
       "              [ 0.14402702]], dtype=float32), 'bias': DeviceArray([0.], dtype=float32)})})}))"
      ]
     },
     "execution_count": 9,
     "metadata": {},
     "output_type": "execute_result"
    }
   ],
   "source": [
    "def mlp(scope: Scope, inputs: Array, features: int):\n",
    "  hidden = dense(scope.push('hidden'), inputs, features)\n",
    "  hidden = nn.relu(hidden)\n",
    "  lnormd = nn.layer_norm(scope.push('lnorm'), hidden) \n",
    "  return dense(scope.push('out'), lnormd, 1)\n",
    "\n",
    "init(mlp)(random.PRNGKey(0), x, features=3)"
   ]
  },
  {
   "cell_type": "markdown",
   "metadata": {},
   "source": [
    "### attn"
   ]
  },
  {
   "cell_type": "code",
   "execution_count": 10,
   "metadata": {},
   "outputs": [
    {
     "data": {
      "text/plain": [
       "(DeviceArray([[[ 0.28011173, -0.55635864,  0.6146434 ,  0.5917805 ]]], dtype=float32),\n",
       " FrozenDict({'param': FrozenDict({'query': FrozenDict({'kernel': DeviceArray([[[-0.25566727,  0.24481767,  0.70468867,  0.10142951]],\n",
       " \n",
       "              [[-0.24900651, -0.43240824, -0.07879252, -0.35603613]],\n",
       " \n",
       "              [[ 0.04119987, -0.5303452 ,  0.5928286 , -0.5084808 ]],\n",
       " \n",
       "              [[-0.01729889,  0.76639396, -0.4523484 ,  0.8094689 ]]],            dtype=float32), 'bias': DeviceArray([[0., 0., 0., 0.]], dtype=float32)}), 'key': FrozenDict({'kernel': DeviceArray([[[-0.27695838,  0.73972565, -0.00267717,  0.669741  ]],\n",
       " \n",
       "              [[-0.6818866 ,  0.13959199, -0.3723538 , -0.35600063]],\n",
       " \n",
       "              [[ 0.1109049 , -0.22054054,  0.5455148 ,  0.21493351]],\n",
       " \n",
       "              [[-0.19008224,  0.06578335,  0.24833658,  0.00166761]]],            dtype=float32), 'bias': DeviceArray([[0., 0., 0., 0.]], dtype=float32)}), 'value': FrozenDict({'kernel': DeviceArray([[[ 0.7953513 , -0.31489673,  0.05924124, -0.7206108 ]],\n",
       " \n",
       "              [[-0.17805988,  0.20302927, -0.3807426 ,  0.25574264]],\n",
       " \n",
       "              [[-0.19177954, -0.22132646, -0.5681509 , -0.3374689 ]],\n",
       " \n",
       "              [[-0.46070418, -0.02352559,  0.05904352, -0.38416326]]],            dtype=float32), 'bias': DeviceArray([[0., 0., 0., 0.]], dtype=float32)}), 'out': FrozenDict({'kernel': DeviceArray([[[ 0.69658613,  0.49526367,  0.0839055 ,  0.8060124 ],\n",
       "               [-0.5572959 , -0.66304594,  0.11851442, -0.55663824],\n",
       "               [-0.39509287,  0.6335309 ,  0.5601345 , -0.00959172],\n",
       "               [ 0.18739122,  0.21005836, -0.94827217, -0.34860098]]],            dtype=float32), 'bias': DeviceArray([0., 0., 0., 0.], dtype=float32)})}), 'cache': FrozenDict({'entry': CacheEntry(key=DeviceArray([[[[-1.0380223 ,  0.7245605 ,  0.41882047,  0.5303415 ]],\n",
       " \n",
       "               [[-1.0380223 ,  0.7245605 ,  0.41882047,  0.5303415 ]]]],            dtype=float32), value=DeviceArray([[[[-0.03519225, -0.3567195 , -0.8306087 , -1.1865003 ]],\n",
       " \n",
       "               [[-0.03519225, -0.3567195 , -0.8306087 , -1.1865003 ]]]],            dtype=float32), i=DeviceArray(1, dtype=uint32))})}))"
      ]
     },
     "execution_count": 10,
     "metadata": {},
     "output_type": "execute_result"
    }
   ],
   "source": [
    "x = jnp.ones((1, 2, 4))\n",
    "attn = functools.partial(nn.multi_head_dot_product_attention, num_heads=1, cache=True, causal_mask=True)\n",
    "y, variables = init(attn)(random.PRNGKey(0), x, x)\n",
    "params = variables['param']\n",
    "cache = jax.tree_map(lambda fn: fn((1, 2)), variables['cache'])\n",
    "variables = variables.copy(cache=cache)\n",
    "apply(attn, mutable='cache')(variables, x[:, 0:1], x)"
   ]
  },
  {
   "cell_type": "markdown",
   "metadata": {},
   "source": [
    "# test model"
   ]
  },
  {
   "cell_type": "code",
   "execution_count": 4,
   "metadata": {},
   "outputs": [
    {
     "name": "stdout",
     "output_type": "stream",
     "text": [
      "/Users/levskaya/repos/alflax/examples/wmt\n"
     ]
    }
   ],
   "source": [
    "cd examples/wmt"
   ]
  },
  {
   "cell_type": "code",
   "execution_count": 5,
   "metadata": {},
   "outputs": [],
   "source": [
    "import models"
   ]
  },
  {
   "cell_type": "code",
   "execution_count": 6,
   "metadata": {},
   "outputs": [],
   "source": [
    "models=reload(models)"
   ]
  },
  {
   "cell_type": "code",
   "execution_count": 5,
   "metadata": {},
   "outputs": [
    {
     "name": "stderr",
     "output_type": "stream",
     "text": [
      "/Users/levskaya/repos/aljax/jax/lib/xla_bridge.py:116: UserWarning: No GPU/TPU found, falling back to CPU.\n",
      "  warnings.warn('No GPU/TPU found, falling back to CPU.')\n"
     ]
    },
    {
     "data": {
      "text/plain": [
       "(DeviceArray([[[1.       , 1.       , 2.       , 2.       ],\n",
       "               [1.841471 , 1.0001   , 1.5403023, 2.       ]]],            dtype=float32),\n",
       " FrozenDict({}))"
      ]
     },
     "execution_count": 5,
     "metadata": {},
     "output_type": "execute_result"
    }
   ],
   "source": [
    "x = jnp.ones((1, 2, 4))\n",
    "y, variables = init(models.add_position_embs)(random.PRNGKey(0), x)\n",
    "y, variables"
   ]
  },
  {
   "cell_type": "code",
   "execution_count": 6,
   "metadata": {},
   "outputs": [
    {
     "data": {
      "text/plain": [
       "(DeviceArray([[[-0.14761418, -0.12177372,  0.00229907, -0.25567493],\n",
       "               [ 0.00163177,  0.0016789 , -0.00219643,  0.        ]]],            dtype=float32),\n",
       " FrozenDict({'param': FrozenDict({'dense__0': FrozenDict({'kernel': DeviceArray([[ 0.01424811,  0.05006719, -0.3585709 , -0.14347874,\n",
       "               -0.21958077,  0.06684854],\n",
       "              [ 0.73106635, -0.49544278,  0.42408884, -0.4566572 ,\n",
       "                0.13028866, -0.24688083],\n",
       "              [-0.6033098 ,  0.29077   ,  0.15498346, -0.55903727,\n",
       "                0.10362869,  0.40677932],\n",
       "              [-0.20636722,  0.15732443, -0.00088572,  0.2146615 ,\n",
       "               -0.22184326,  0.16878225]], dtype=float32), 'bias': DeviceArray([-1.0963597e-06, -1.1821694e-06,  3.7060437e-07,\n",
       "              -3.0882313e-07, -1.3826963e-06,  3.3113665e-06],            dtype=float32)}), 'dense__1': FrozenDict({'kernel': DeviceArray([[-1.2714542e-01,  2.1636164e-02,  4.6816525e-01,\n",
       "                2.8025460e-01],\n",
       "              [ 4.8606205e-01,  5.0016886e-01, -6.5461177e-01,\n",
       "               -7.1892542e-01],\n",
       "              [-4.4519460e-01, -6.8200511e-01,  4.5447227e-01,\n",
       "                6.4792347e-01],\n",
       "              [ 2.3361798e-04, -4.5128381e-01, -6.7389590e-01,\n",
       "               -1.5709470e-01],\n",
       "              [ 7.6888257e-01, -1.9638702e-01, -8.1463791e-02,\n",
       "                7.3321693e-02],\n",
       "              [-3.0563658e-01, -2.5281510e-01,  9.2062103e-03,\n",
       "               -5.1865238e-01]], dtype=float32), 'bias': DeviceArray([ 8.7330716e-07,  6.9447213e-07, -1.1181665e-07,\n",
       "               1.1311039e-06], dtype=float32)})})}))"
      ]
     },
     "execution_count": 6,
     "metadata": {},
     "output_type": "execute_result"
    }
   ],
   "source": [
    "x = jnp.ones((1, 2, 4))\n",
    "mlp_block = functools.partial(models.mlp_block, mlp_dim=6)\n",
    "y, variables = init(mlp_block)({'param': random.PRNGKey(0), 'dropout': random.PRNGKey(0)}, x)\n",
    "y, variables"
   ]
  },
  {
   "cell_type": "code",
   "execution_count": 23,
   "metadata": {},
   "outputs": [
    {
     "data": {
      "text/plain": [
       "(DeviceArray([[[1.0000001 , 0.99999934, 0.99999803, 1.0000008 ],\n",
       "               [1.0000001 , 0.99999934, 0.99999803, 1.0000008 ]]],            dtype=float32),\n",
       " {'param': {'layer_norm__0': {'bias': (4,), 'scale': (4,)},\n",
       "   'layer_norm__1': {'bias': (4,), 'scale': (4,)},\n",
       "   'mlp_block__0': {'dense__0': {'bias': (24,), 'kernel': (4, 24)},\n",
       "    'dense__1': {'bias': (4,), 'kernel': (24, 4)}},\n",
       "   'multi_head_dot_product_attention__0': {'key': {'kernel': (4, 2, 3)},\n",
       "    'out': {'kernel': (2, 3, 4)},\n",
       "    'query': {'kernel': (4, 2, 3)},\n",
       "    'value': {'kernel': (4, 2, 3)}}}})"
      ]
     },
     "execution_count": 23,
     "metadata": {},
     "output_type": "execute_result"
    }
   ],
   "source": [
    "x = jnp.ones((1, 2, 4))\n",
    "block = functools.partial(models.encoder_1d_block, qkv_dim=6, mlp_dim=24, num_heads=2)\n",
    "y, variables = init(block)({'param': random.PRNGKey(0), 'dropout': random.PRNGKey(0)}, x)\n",
    "#y, variables\n",
    "y, jax.tree_map(jnp.shape, core.unfreeze(variables))"
   ]
  },
  {
   "cell_type": "code",
   "execution_count": 24,
   "metadata": {},
   "outputs": [
    {
     "data": {
      "text/plain": [
       "(DeviceArray([[[-1.4978968 , -0.51244444,  0.12619986, ...,  0.9570363 ,\n",
       "                 1.6442691 , -0.27091283],\n",
       "               [ 0.6670244 ,  0.6246195 ,  0.07661428, ...,  0.932581  ,\n",
       "                -0.6971056 ,  0.0879988 ]]], dtype=float32),\n",
       " {'param': {'embedding__0': {'table': (256, 512)},\n",
       "   'encoder_norm': {'bias': (512,), 'scale': (512,)},\n",
       "   'encoderblock_0': {'layer_norm__0': {'bias': (512,), 'scale': (512,)},\n",
       "    'layer_norm__1': {'bias': (512,), 'scale': (512,)},\n",
       "    'mlp_block__0': {'dense__0': {'bias': (24,), 'kernel': (512, 24)},\n",
       "     'dense__1': {'bias': (512,), 'kernel': (24, 512)}},\n",
       "    'multi_head_dot_product_attention__0': {'key': {'kernel': (512, 2, 3)},\n",
       "     'out': {'kernel': (2, 3, 512)},\n",
       "     'query': {'kernel': (512, 2, 3)},\n",
       "     'value': {'kernel': (512, 2, 3)}}},\n",
       "   'encoderblock_1': {'layer_norm__0': {'bias': (512,), 'scale': (512,)},\n",
       "    'layer_norm__1': {'bias': (512,), 'scale': (512,)},\n",
       "    'mlp_block__0': {'dense__0': {'bias': (24,), 'kernel': (512, 24)},\n",
       "     'dense__1': {'bias': (512,), 'kernel': (24, 512)}},\n",
       "    'multi_head_dot_product_attention__0': {'key': {'kernel': (512, 2, 3)},\n",
       "     'out': {'kernel': (2, 3, 512)},\n",
       "     'query': {'kernel': (512, 2, 3)},\n",
       "     'value': {'kernel': (512, 2, 3)}}},\n",
       "   'encoderblock_2': {'layer_norm__0': {'bias': (512,), 'scale': (512,)},\n",
       "    'layer_norm__1': {'bias': (512,), 'scale': (512,)},\n",
       "    'mlp_block__0': {'dense__0': {'bias': (24,), 'kernel': (512, 24)},\n",
       "     'dense__1': {'bias': (512,), 'kernel': (24, 512)}},\n",
       "    'multi_head_dot_product_attention__0': {'key': {'kernel': (512, 2, 3)},\n",
       "     'out': {'kernel': (2, 3, 512)},\n",
       "     'query': {'kernel': (512, 2, 3)},\n",
       "     'value': {'kernel': (512, 2, 3)}}},\n",
       "   'encoderblock_3': {'layer_norm__0': {'bias': (512,), 'scale': (512,)},\n",
       "    'layer_norm__1': {'bias': (512,), 'scale': (512,)},\n",
       "    'mlp_block__0': {'dense__0': {'bias': (24,), 'kernel': (512, 24)},\n",
       "     'dense__1': {'bias': (512,), 'kernel': (24, 512)}},\n",
       "    'multi_head_dot_product_attention__0': {'key': {'kernel': (512, 2, 3)},\n",
       "     'out': {'kernel': (2, 3, 512)},\n",
       "     'query': {'kernel': (512, 2, 3)},\n",
       "     'value': {'kernel': (512, 2, 3)}}},\n",
       "   'encoderblock_4': {'layer_norm__0': {'bias': (512,), 'scale': (512,)},\n",
       "    'layer_norm__1': {'bias': (512,), 'scale': (512,)},\n",
       "    'mlp_block__0': {'dense__0': {'bias': (24,), 'kernel': (512, 24)},\n",
       "     'dense__1': {'bias': (512,), 'kernel': (24, 512)}},\n",
       "    'multi_head_dot_product_attention__0': {'key': {'kernel': (512, 2, 3)},\n",
       "     'out': {'kernel': (2, 3, 512)},\n",
       "     'query': {'kernel': (512, 2, 3)},\n",
       "     'value': {'kernel': (512, 2, 3)}}},\n",
       "   'encoderblock_5': {'layer_norm__0': {'bias': (512,), 'scale': (512,)},\n",
       "    'layer_norm__1': {'bias': (512,), 'scale': (512,)},\n",
       "    'mlp_block__0': {'dense__0': {'bias': (24,), 'kernel': (512, 24)},\n",
       "     'dense__1': {'bias': (512,), 'kernel': (24, 512)}},\n",
       "    'multi_head_dot_product_attention__0': {'key': {'kernel': (512, 2, 3)},\n",
       "     'out': {'kernel': (2, 3, 512)},\n",
       "     'query': {'kernel': (512, 2, 3)},\n",
       "     'value': {'kernel': (512, 2, 3)}}}}})"
      ]
     },
     "execution_count": 24,
     "metadata": {},
     "output_type": "execute_result"
    }
   ],
   "source": [
    "models=reload(models)\n",
    "x = jnp.ones((1, 2))\n",
    "block = functools.partial(models.encoder, qkv_dim=6, mlp_dim=24, num_heads=2, vocab_size=256)\n",
    "y, variables = init(block)({'param': random.PRNGKey(0), 'dropout': random.PRNGKey(0)}, x)\n",
    "\n",
    "y, jax.tree_map(jnp.shape, core.unfreeze(variables))"
   ]
  },
  {
   "cell_type": "code",
   "execution_count": 26,
   "metadata": {},
   "outputs": [
    {
     "data": {
      "text/plain": [
       "((1, 2, 256),\n",
       " {'param': {'embedding__0': {'table': (256, 512)},\n",
       "   'encoderdecoder_norm': {'bias': (512,), 'scale': (512,)},\n",
       "   'encoderdecoderblock_0': {'layer_norm__0': {'bias': (512,),\n",
       "     'scale': (512,)},\n",
       "    'layer_norm__1': {'bias': (512,), 'scale': (512,)},\n",
       "    'layer_norm__2': {'bias': (512,), 'scale': (512,)},\n",
       "    'mlp_block__0': {'dense__0': {'bias': (24,), 'kernel': (512, 24)},\n",
       "     'dense__1': {'bias': (512,), 'kernel': (24, 512)}},\n",
       "    'multi_head_dot_product_attention__0': {'key': {'kernel': (512, 2, 3)},\n",
       "     'out': {'kernel': (2, 3, 512)},\n",
       "     'query': {'kernel': (512, 2, 3)},\n",
       "     'value': {'kernel': (512, 2, 3)}},\n",
       "    'multi_head_dot_product_attention__1': {'key': {'kernel': (6, 2, 3)},\n",
       "     'out': {'kernel': (2, 3, 512)},\n",
       "     'query': {'kernel': (512, 2, 3)},\n",
       "     'value': {'kernel': (6, 2, 3)}}},\n",
       "   'encoderdecoderblock_1': {'layer_norm__0': {'bias': (512,),\n",
       "     'scale': (512,)},\n",
       "    'layer_norm__1': {'bias': (512,), 'scale': (512,)},\n",
       "    'layer_norm__2': {'bias': (512,), 'scale': (512,)},\n",
       "    'mlp_block__0': {'dense__0': {'bias': (24,), 'kernel': (512, 24)},\n",
       "     'dense__1': {'bias': (512,), 'kernel': (24, 512)}},\n",
       "    'multi_head_dot_product_attention__0': {'key': {'kernel': (512, 2, 3)},\n",
       "     'out': {'kernel': (2, 3, 512)},\n",
       "     'query': {'kernel': (512, 2, 3)},\n",
       "     'value': {'kernel': (512, 2, 3)}},\n",
       "    'multi_head_dot_product_attention__1': {'key': {'kernel': (6, 2, 3)},\n",
       "     'out': {'kernel': (2, 3, 512)},\n",
       "     'query': {'kernel': (512, 2, 3)},\n",
       "     'value': {'kernel': (6, 2, 3)}}},\n",
       "   'encoderdecoderblock_2': {'layer_norm__0': {'bias': (512,),\n",
       "     'scale': (512,)},\n",
       "    'layer_norm__1': {'bias': (512,), 'scale': (512,)},\n",
       "    'layer_norm__2': {'bias': (512,), 'scale': (512,)},\n",
       "    'mlp_block__0': {'dense__0': {'bias': (24,), 'kernel': (512, 24)},\n",
       "     'dense__1': {'bias': (512,), 'kernel': (24, 512)}},\n",
       "    'multi_head_dot_product_attention__0': {'key': {'kernel': (512, 2, 3)},\n",
       "     'out': {'kernel': (2, 3, 512)},\n",
       "     'query': {'kernel': (512, 2, 3)},\n",
       "     'value': {'kernel': (512, 2, 3)}},\n",
       "    'multi_head_dot_product_attention__1': {'key': {'kernel': (6, 2, 3)},\n",
       "     'out': {'kernel': (2, 3, 512)},\n",
       "     'query': {'kernel': (512, 2, 3)},\n",
       "     'value': {'kernel': (6, 2, 3)}}},\n",
       "   'encoderdecoderblock_3': {'layer_norm__0': {'bias': (512,),\n",
       "     'scale': (512,)},\n",
       "    'layer_norm__1': {'bias': (512,), 'scale': (512,)},\n",
       "    'layer_norm__2': {'bias': (512,), 'scale': (512,)},\n",
       "    'mlp_block__0': {'dense__0': {'bias': (24,), 'kernel': (512, 24)},\n",
       "     'dense__1': {'bias': (512,), 'kernel': (24, 512)}},\n",
       "    'multi_head_dot_product_attention__0': {'key': {'kernel': (512, 2, 3)},\n",
       "     'out': {'kernel': (2, 3, 512)},\n",
       "     'query': {'kernel': (512, 2, 3)},\n",
       "     'value': {'kernel': (512, 2, 3)}},\n",
       "    'multi_head_dot_product_attention__1': {'key': {'kernel': (6, 2, 3)},\n",
       "     'out': {'kernel': (2, 3, 512)},\n",
       "     'query': {'kernel': (512, 2, 3)},\n",
       "     'value': {'kernel': (6, 2, 3)}}},\n",
       "   'encoderdecoderblock_4': {'layer_norm__0': {'bias': (512,),\n",
       "     'scale': (512,)},\n",
       "    'layer_norm__1': {'bias': (512,), 'scale': (512,)},\n",
       "    'layer_norm__2': {'bias': (512,), 'scale': (512,)},\n",
       "    'mlp_block__0': {'dense__0': {'bias': (24,), 'kernel': (512, 24)},\n",
       "     'dense__1': {'bias': (512,), 'kernel': (24, 512)}},\n",
       "    'multi_head_dot_product_attention__0': {'key': {'kernel': (512, 2, 3)},\n",
       "     'out': {'kernel': (2, 3, 512)},\n",
       "     'query': {'kernel': (512, 2, 3)},\n",
       "     'value': {'kernel': (512, 2, 3)}},\n",
       "    'multi_head_dot_product_attention__1': {'key': {'kernel': (6, 2, 3)},\n",
       "     'out': {'kernel': (2, 3, 512)},\n",
       "     'query': {'kernel': (512, 2, 3)},\n",
       "     'value': {'kernel': (6, 2, 3)}}},\n",
       "   'encoderdecoderblock_5': {'layer_norm__0': {'bias': (512,),\n",
       "     'scale': (512,)},\n",
       "    'layer_norm__1': {'bias': (512,), 'scale': (512,)},\n",
       "    'layer_norm__2': {'bias': (512,), 'scale': (512,)},\n",
       "    'mlp_block__0': {'dense__0': {'bias': (24,), 'kernel': (512, 24)},\n",
       "     'dense__1': {'bias': (512,), 'kernel': (24, 512)}},\n",
       "    'multi_head_dot_product_attention__0': {'key': {'kernel': (512, 2, 3)},\n",
       "     'out': {'kernel': (2, 3, 512)},\n",
       "     'query': {'kernel': (512, 2, 3)},\n",
       "     'value': {'kernel': (512, 2, 3)}},\n",
       "    'multi_head_dot_product_attention__1': {'key': {'kernel': (6, 2, 3)},\n",
       "     'out': {'kernel': (2, 3, 512)},\n",
       "     'query': {'kernel': (512, 2, 3)},\n",
       "     'value': {'kernel': (6, 2, 3)}}},\n",
       "   'logitdense': {'bias': (256,), 'kernel': (512, 256)}}})"
      ]
     },
     "execution_count": 26,
     "metadata": {},
     "output_type": "execute_result"
    }
   ],
   "source": [
    "models=reload(models)\n",
    "encoded = jnp.ones((1, 2, 6))\n",
    "x = jnp.ones((1, 2))\n",
    "src_padding_mask = (x > 0)[..., None]\n",
    "block = functools.partial(models.decoder, qkv_dim=6, mlp_dim=24, num_heads=2, output_vocab_size=256)\n",
    "y, variables = init(block)({'param': random.PRNGKey(0), 'dropout': random.PRNGKey(0)}, encoded, src_padding_mask, x)\n",
    "\n",
    "y.shape, jax.tree_map(jnp.shape, core.unfreeze(variables))"
   ]
  },
  {
   "cell_type": "code",
   "execution_count": 45,
   "metadata": {},
   "outputs": [
    {
     "data": {
      "text/plain": [
       "((1, 2, 256),\n",
       " {'param': {'decoder': {'encoderdecoder_norm': {'bias': (512,),\n",
       "     'scale': (512,)},\n",
       "    'encoderdecoderblock_0': {'layer_norm__0': {'bias': (512,),\n",
       "      'scale': (512,)},\n",
       "     'layer_norm__1': {'bias': (512,), 'scale': (512,)},\n",
       "     'layer_norm__2': {'bias': (512,), 'scale': (512,)},\n",
       "     'mlp_block__0': {'dense__0': {'bias': (24,), 'kernel': (512, 24)},\n",
       "      'dense__1': {'bias': (512,), 'kernel': (24, 512)}},\n",
       "     'multi_head_dot_product_attention__0': {'key': {'kernel': (512, 2, 3)},\n",
       "      'out': {'kernel': (2, 3, 512)},\n",
       "      'query': {'kernel': (512, 2, 3)},\n",
       "      'value': {'kernel': (512, 2, 3)}},\n",
       "     'multi_head_dot_product_attention__1': {'key': {'kernel': (512, 2, 3)},\n",
       "      'out': {'kernel': (2, 3, 512)},\n",
       "      'query': {'kernel': (512, 2, 3)},\n",
       "      'value': {'kernel': (512, 2, 3)}}},\n",
       "    'encoderdecoderblock_1': {'layer_norm__0': {'bias': (512,),\n",
       "      'scale': (512,)},\n",
       "     'layer_norm__1': {'bias': (512,), 'scale': (512,)},\n",
       "     'layer_norm__2': {'bias': (512,), 'scale': (512,)},\n",
       "     'mlp_block__0': {'dense__0': {'bias': (24,), 'kernel': (512, 24)},\n",
       "      'dense__1': {'bias': (512,), 'kernel': (24, 512)}},\n",
       "     'multi_head_dot_product_attention__0': {'key': {'kernel': (512, 2, 3)},\n",
       "      'out': {'kernel': (2, 3, 512)},\n",
       "      'query': {'kernel': (512, 2, 3)},\n",
       "      'value': {'kernel': (512, 2, 3)}},\n",
       "     'multi_head_dot_product_attention__1': {'key': {'kernel': (512, 2, 3)},\n",
       "      'out': {'kernel': (2, 3, 512)},\n",
       "      'query': {'kernel': (512, 2, 3)},\n",
       "      'value': {'kernel': (512, 2, 3)}}},\n",
       "    'encoderdecoderblock_2': {'layer_norm__0': {'bias': (512,),\n",
       "      'scale': (512,)},\n",
       "     'layer_norm__1': {'bias': (512,), 'scale': (512,)},\n",
       "     'layer_norm__2': {'bias': (512,), 'scale': (512,)},\n",
       "     'mlp_block__0': {'dense__0': {'bias': (24,), 'kernel': (512, 24)},\n",
       "      'dense__1': {'bias': (512,), 'kernel': (24, 512)}},\n",
       "     'multi_head_dot_product_attention__0': {'key': {'kernel': (512, 2, 3)},\n",
       "      'out': {'kernel': (2, 3, 512)},\n",
       "      'query': {'kernel': (512, 2, 3)},\n",
       "      'value': {'kernel': (512, 2, 3)}},\n",
       "     'multi_head_dot_product_attention__1': {'key': {'kernel': (512, 2, 3)},\n",
       "      'out': {'kernel': (2, 3, 512)},\n",
       "      'query': {'kernel': (512, 2, 3)},\n",
       "      'value': {'kernel': (512, 2, 3)}}},\n",
       "    'encoderdecoderblock_3': {'layer_norm__0': {'bias': (512,),\n",
       "      'scale': (512,)},\n",
       "     'layer_norm__1': {'bias': (512,), 'scale': (512,)},\n",
       "     'layer_norm__2': {'bias': (512,), 'scale': (512,)},\n",
       "     'mlp_block__0': {'dense__0': {'bias': (24,), 'kernel': (512, 24)},\n",
       "      'dense__1': {'bias': (512,), 'kernel': (24, 512)}},\n",
       "     'multi_head_dot_product_attention__0': {'key': {'kernel': (512, 2, 3)},\n",
       "      'out': {'kernel': (2, 3, 512)},\n",
       "      'query': {'kernel': (512, 2, 3)},\n",
       "      'value': {'kernel': (512, 2, 3)}},\n",
       "     'multi_head_dot_product_attention__1': {'key': {'kernel': (512, 2, 3)},\n",
       "      'out': {'kernel': (2, 3, 512)},\n",
       "      'query': {'kernel': (512, 2, 3)},\n",
       "      'value': {'kernel': (512, 2, 3)}}},\n",
       "    'encoderdecoderblock_4': {'layer_norm__0': {'bias': (512,),\n",
       "      'scale': (512,)},\n",
       "     'layer_norm__1': {'bias': (512,), 'scale': (512,)},\n",
       "     'layer_norm__2': {'bias': (512,), 'scale': (512,)},\n",
       "     'mlp_block__0': {'dense__0': {'bias': (24,), 'kernel': (512, 24)},\n",
       "      'dense__1': {'bias': (512,), 'kernel': (24, 512)}},\n",
       "     'multi_head_dot_product_attention__0': {'key': {'kernel': (512, 2, 3)},\n",
       "      'out': {'kernel': (2, 3, 512)},\n",
       "      'query': {'kernel': (512, 2, 3)},\n",
       "      'value': {'kernel': (512, 2, 3)}},\n",
       "     'multi_head_dot_product_attention__1': {'key': {'kernel': (512, 2, 3)},\n",
       "      'out': {'kernel': (2, 3, 512)},\n",
       "      'query': {'kernel': (512, 2, 3)},\n",
       "      'value': {'kernel': (512, 2, 3)}}},\n",
       "    'encoderdecoderblock_5': {'layer_norm__0': {'bias': (512,),\n",
       "      'scale': (512,)},\n",
       "     'layer_norm__1': {'bias': (512,), 'scale': (512,)},\n",
       "     'layer_norm__2': {'bias': (512,), 'scale': (512,)},\n",
       "     'mlp_block__0': {'dense__0': {'bias': (24,), 'kernel': (512, 24)},\n",
       "      'dense__1': {'bias': (512,), 'kernel': (24, 512)}},\n",
       "     'multi_head_dot_product_attention__0': {'key': {'kernel': (512, 2, 3)},\n",
       "      'out': {'kernel': (2, 3, 512)},\n",
       "      'query': {'kernel': (512, 2, 3)},\n",
       "      'value': {'kernel': (512, 2, 3)}},\n",
       "     'multi_head_dot_product_attention__1': {'key': {'kernel': (512, 2, 3)},\n",
       "      'out': {'kernel': (2, 3, 512)},\n",
       "      'query': {'kernel': (512, 2, 3)},\n",
       "      'value': {'kernel': (512, 2, 3)}}},\n",
       "    'logitdense': {'bias': (256,), 'kernel': (512, 256)}},\n",
       "   'embedding__0': {'table': (256, 512)},\n",
       "   'encoder': {'encoder_norm': {'bias': (512,), 'scale': (512,)},\n",
       "    'encoderblock_0': {'layer_norm__0': {'bias': (512,), 'scale': (512,)},\n",
       "     'layer_norm__1': {'bias': (512,), 'scale': (512,)},\n",
       "     'mlp_block__0': {'dense__0': {'bias': (24,), 'kernel': (512, 24)},\n",
       "      'dense__1': {'bias': (512,), 'kernel': (24, 512)}},\n",
       "     'multi_head_dot_product_attention__0': {'key': {'kernel': (512, 2, 3)},\n",
       "      'out': {'kernel': (2, 3, 512)},\n",
       "      'query': {'kernel': (512, 2, 3)},\n",
       "      'value': {'kernel': (512, 2, 3)}}},\n",
       "    'encoderblock_1': {'layer_norm__0': {'bias': (512,), 'scale': (512,)},\n",
       "     'layer_norm__1': {'bias': (512,), 'scale': (512,)},\n",
       "     'mlp_block__0': {'dense__0': {'bias': (24,), 'kernel': (512, 24)},\n",
       "      'dense__1': {'bias': (512,), 'kernel': (24, 512)}},\n",
       "     'multi_head_dot_product_attention__0': {'key': {'kernel': (512, 2, 3)},\n",
       "      'out': {'kernel': (2, 3, 512)},\n",
       "      'query': {'kernel': (512, 2, 3)},\n",
       "      'value': {'kernel': (512, 2, 3)}}},\n",
       "    'encoderblock_2': {'layer_norm__0': {'bias': (512,), 'scale': (512,)},\n",
       "     'layer_norm__1': {'bias': (512,), 'scale': (512,)},\n",
       "     'mlp_block__0': {'dense__0': {'bias': (24,), 'kernel': (512, 24)},\n",
       "      'dense__1': {'bias': (512,), 'kernel': (24, 512)}},\n",
       "     'multi_head_dot_product_attention__0': {'key': {'kernel': (512, 2, 3)},\n",
       "      'out': {'kernel': (2, 3, 512)},\n",
       "      'query': {'kernel': (512, 2, 3)},\n",
       "      'value': {'kernel': (512, 2, 3)}}},\n",
       "    'encoderblock_3': {'layer_norm__0': {'bias': (512,), 'scale': (512,)},\n",
       "     'layer_norm__1': {'bias': (512,), 'scale': (512,)},\n",
       "     'mlp_block__0': {'dense__0': {'bias': (24,), 'kernel': (512, 24)},\n",
       "      'dense__1': {'bias': (512,), 'kernel': (24, 512)}},\n",
       "     'multi_head_dot_product_attention__0': {'key': {'kernel': (512, 2, 3)},\n",
       "      'out': {'kernel': (2, 3, 512)},\n",
       "      'query': {'kernel': (512, 2, 3)},\n",
       "      'value': {'kernel': (512, 2, 3)}}},\n",
       "    'encoderblock_4': {'layer_norm__0': {'bias': (512,), 'scale': (512,)},\n",
       "     'layer_norm__1': {'bias': (512,), 'scale': (512,)},\n",
       "     'mlp_block__0': {'dense__0': {'bias': (24,), 'kernel': (512, 24)},\n",
       "      'dense__1': {'bias': (512,), 'kernel': (24, 512)}},\n",
       "     'multi_head_dot_product_attention__0': {'key': {'kernel': (512, 2, 3)},\n",
       "      'out': {'kernel': (2, 3, 512)},\n",
       "      'query': {'kernel': (512, 2, 3)},\n",
       "      'value': {'kernel': (512, 2, 3)}}},\n",
       "    'encoderblock_5': {'layer_norm__0': {'bias': (512,), 'scale': (512,)},\n",
       "     'layer_norm__1': {'bias': (512,), 'scale': (512,)},\n",
       "     'mlp_block__0': {'dense__0': {'bias': (24,), 'kernel': (512, 24)},\n",
       "      'dense__1': {'bias': (512,), 'kernel': (24, 512)}},\n",
       "     'multi_head_dot_product_attention__0': {'key': {'kernel': (512, 2, 3)},\n",
       "      'out': {'kernel': (2, 3, 512)},\n",
       "      'query': {'kernel': (512, 2, 3)},\n",
       "      'value': {'kernel': (512, 2, 3)}}}}}})"
      ]
     },
     "execution_count": 45,
     "metadata": {},
     "output_type": "execute_result"
    }
   ],
   "source": [
    "models=reload(models)\n",
    "x = jnp.ones((1, 2))\n",
    "block = functools.partial(models.transformer, qkv_dim=6, mlp_dim=24, num_heads=2, vocab_size=256, share_embeddings=True, train=True)\n",
    "y, variables = init(block)({'param': random.PRNGKey(0), 'dropout': random.PRNGKey(0)}, x, x)\n",
    "\n",
    "y.shape, jax.tree_map(jnp.shape, core.unfreeze(variables))\n"
   ]
  },
  {
   "cell_type": "code",
   "execution_count": 60,
   "metadata": {},
   "outputs": [],
   "source": [
    "models=reload(models)\n",
    "x = jnp.ones((1, 2))\n",
    "\n",
    "encode_fn = functools.partial(models.transformer_encode, qkv_dim=6, mlp_dim=24, num_heads=2, vocab_size=256, share_embeddings=True)\n",
    "decode_fn = functools.partial(models.transformer_decode, qkv_dim=6, mlp_dim=24, num_heads=2, vocab_size=256, share_embeddings=True)\n",
    "\n",
    "encoded = apply(encode_fn)(variables, x, rngs={'dropout': random.PRNGKey(24)})"
   ]
  },
  {
   "cell_type": "code",
   "execution_count": 61,
   "metadata": {},
   "outputs": [
    {
     "data": {
      "text/plain": [
       "(1, 2, 256)"
      ]
     },
     "execution_count": 61,
     "metadata": {},
     "output_type": "execute_result"
    }
   ],
   "source": [
    "models=reload(models)\n",
    "x = jnp.ones((1, 2))\n",
    "src_padding_mask = (x > 0)[..., None]\n",
    "\n",
    "\n",
    "apply(decode_fn)(variables, encoded, src_padding_mask, x, rngs={'dropout': random.PRNGKey(24)}).shape"
   ]
  },
  {
   "cell_type": "code",
   "execution_count": 98,
   "metadata": {},
   "outputs": [],
   "source": [
    "#y, variables = init(model)(random.PRNGKey(0), jnp.ones(input_shape, jnp.float32), jnp.ones(target_shape, jnp.float32), cache=True, train=True)\n",
    "input_shape = (1,10)\n",
    "target_shape = (1,10)\n",
    "block = functools.partial(models.transformer, qkv_dim=6, mlp_dim=24, num_heads=2, vocab_size=256, share_embeddings=True, train=True)\n",
    "y, variables = init(block)({'param': random.PRNGKey(0), 'dropout': random.PRNGKey(0)},  jnp.ones(input_shape, jnp.float32), jnp.ones(target_shape, jnp.float32), cache=True, train=True)\n"
   ]
  },
  {
   "cell_type": "code",
   "execution_count": 65,
   "metadata": {},
   "outputs": [
    {
     "data": {
      "text/plain": [
       "FrozenDict({'decoder': FrozenDict({'posembed_output': FrozenDict({'idx': DeviceArray(0, dtype=uint32)}), 'encoderdecoderblock_0': FrozenDict({'multi_head_dot_product_attention__0': FrozenDict({'entry': <function multi_head_dot_product_attention.<locals>.init_fn at 0x138d179d8>})}), 'encoderdecoderblock_1': FrozenDict({'multi_head_dot_product_attention__0': FrozenDict({'entry': <function multi_head_dot_product_attention.<locals>.init_fn at 0x138d17620>})}), 'encoderdecoderblock_2': FrozenDict({'multi_head_dot_product_attention__0': FrozenDict({'entry': <function multi_head_dot_product_attention.<locals>.init_fn at 0x138d176a8>})}), 'encoderdecoderblock_3': FrozenDict({'multi_head_dot_product_attention__0': FrozenDict({'entry': <function multi_head_dot_product_attention.<locals>.init_fn at 0x139045268>})}), 'encoderdecoderblock_4': FrozenDict({'multi_head_dot_product_attention__0': FrozenDict({'entry': <function multi_head_dot_product_attention.<locals>.init_fn at 0x1390451e0>})}), 'encoderdecoderblock_5': FrozenDict({'multi_head_dot_product_attention__0': FrozenDict({'entry': <function multi_head_dot_product_attention.<locals>.init_fn at 0x1390458c8>})})})})"
      ]
     },
     "execution_count": 65,
     "metadata": {},
     "output_type": "execute_result"
    }
   ],
   "source": [
    "variables['cache']"
   ]
  },
  {
   "cell_type": "code",
   "execution_count": 95,
   "metadata": {},
   "outputs": [],
   "source": [
    "cache = jax.tree_map(lambda fn: fn((1, 2)) if callable(fn) else fn, variables['cache'])\n",
    "variables = variables.copy(cache=cache)"
   ]
  },
  {
   "cell_type": "code",
   "execution_count": 74,
   "metadata": {},
   "outputs": [],
   "source": [
    "from flax import jax_utils\n"
   ]
  },
  {
   "cell_type": "code",
   "execution_count": 76,
   "metadata": {},
   "outputs": [
    {
     "name": "stderr",
     "output_type": "stream",
     "text": [
      "/Users/levskaya/repos/aljax/jax/lib/xla_bridge.py:116: UserWarning: No GPU/TPU found, falling back to CPU.\n",
      "  warnings.warn('No GPU/TPU found, falling back to CPU.')\n"
     ]
    },
    {
     "data": {
      "text/plain": [
       "ShardedDeviceArray([1], dtype=int32)"
      ]
     },
     "execution_count": 76,
     "metadata": {},
     "output_type": "execute_result"
    }
   ],
   "source": [
    "jax_utils.replicate(1)"
   ]
  },
  {
   "cell_type": "code",
   "execution_count": 78,
   "metadata": {},
   "outputs": [
    {
     "data": {
      "text/plain": [
       "ShardedDeviceArray([1], dtype=int32)"
      ]
     },
     "execution_count": 78,
     "metadata": {},
     "output_type": "execute_result"
    }
   ],
   "source": [
    "jax.pmap(lambda x: x)(jax_utils.replicate(1))"
   ]
  },
  {
   "cell_type": "code",
   "execution_count": 88,
   "metadata": {},
   "outputs": [],
   "source": [
    "variables = variables.copy(param={})"
   ]
  },
  {
   "cell_type": "code",
   "execution_count": 92,
   "metadata": {},
   "outputs": [
    {
     "data": {
      "text/plain": [
       "flax.core.frozen_dict.FrozenDict"
      ]
     },
     "execution_count": 92,
     "metadata": {},
     "output_type": "execute_result"
    }
   ],
   "source": [
    "type(variables)"
   ]
  },
  {
   "cell_type": "code",
   "execution_count": 93,
   "metadata": {},
   "outputs": [
    {
     "data": {
      "text/plain": [
       "FrozenDict({'param': {}})"
      ]
     },
     "execution_count": 93,
     "metadata": {},
     "output_type": "execute_result"
    }
   ],
   "source": [
    "core.FrozenDict(param={})"
   ]
  },
  {
   "cell_type": "code",
   "execution_count": 99,
   "metadata": {},
   "outputs": [
    {
     "data": {
      "text/plain": [
       "['param', 'cache']"
      ]
     },
     "execution_count": 99,
     "metadata": {},
     "output_type": "execute_result"
    }
   ],
   "source": [
    "list(variables.keys())"
   ]
  },
  {
   "cell_type": "code",
   "execution_count": null,
   "metadata": {},
   "outputs": [],
   "source": []
  }
 ],
 "metadata": {
  "kernelspec": {
   "display_name": "py36jax-venv",
   "language": "python",
   "name": "py36jax-venv"
  },
  "language_info": {
   "codemirror_mode": {
    "name": "ipython",
    "version": 3
   },
   "file_extension": ".py",
   "mimetype": "text/x-python",
   "name": "python",
   "nbconvert_exporter": "python",
   "pygments_lexer": "ipython3",
   "version": "3.6.8"
  }
 },
 "nbformat": 4,
 "nbformat_minor": 4
}
