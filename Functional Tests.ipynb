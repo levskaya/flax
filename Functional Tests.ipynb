{
 "cells": [
  {
   "cell_type": "code",
   "execution_count": 1,
   "metadata": {},
   "outputs": [],
   "source": [
    "import functools\n",
    "import jax\n",
    "from jax import random, lax, numpy as jnp\n",
    "import numpy as np\n",
    "\n",
    "import flax\n",
    "from flax import nn\n",
    "from flax import core\n",
    "from flax.core import Scope, init, apply, Array"
   ]
  },
  {
   "cell_type": "code",
   "execution_count": 2,
   "metadata": {},
   "outputs": [
    {
     "name": "stderr",
     "output_type": "stream",
     "text": [
      "/Users/levskaya/repos/aljax/jax/lib/xla_bridge.py:116: UserWarning: No GPU/TPU found, falling back to CPU.\n",
      "  warnings.warn('No GPU/TPU found, falling back to CPU.')\n"
     ]
    },
    {
     "name": "stdout",
     "output_type": "stream",
     "text": [
      "FrozenDict({'param': FrozenDict({'kernel': DeviceArray([[ 0.15374057, -0.6807397 , -1.3350962 ],\n",
      "             [ 0.59940743, -0.69430196, -0.7663768 ]], dtype=float32), 'bias': DeviceArray([0., 0., 0.], dtype=float32)})})\n"
     ]
    }
   ],
   "source": [
    "# def dense(scope: Scope, inputs: Array, features: int, bias: bool = True,\n",
    "#           kernel_init=nn.linear.default_kernel_init,\n",
    "#           bias_init=nn.initializers.zeros):\n",
    "#   kernel = scope.param('kernel', kernel_init, (inputs.shape[-1], features))\n",
    "#   y = jnp.dot(inputs, kernel)\n",
    "#   if bias:\n",
    "#     y += scope.param('bias', bias_init, (features,))\n",
    "#   return y\n",
    "dense = nn.dense\n",
    "\n",
    "model_fn = functools.partial(dense, features=3)\n",
    "x = jnp.ones((1, 2))\n",
    "y, params = init(model_fn)(random.PRNGKey(0), x)\n",
    "print(params)"
   ]
  },
  {
   "cell_type": "code",
   "execution_count": 3,
   "metadata": {},
   "outputs": [
    {
     "data": {
      "text/plain": [
       "(DeviceArray([[-0.00302252]], dtype=float32),\n",
       " FrozenDict({'param': FrozenDict({'hidden': FrozenDict({'kernel': DeviceArray([[-1.1642578 , -0.04300674,  0.33191404],\n",
       "              [-0.7799348 ,  0.24048047, -0.6054149 ]], dtype=float32), 'bias': DeviceArray([0., 0., 0.], dtype=float32)}), 'out': FrozenDict({'kernel': DeviceArray([[ 0.21448377],\n",
       "              [-0.01530595],\n",
       "              [ 0.14402702]], dtype=float32), 'bias': DeviceArray([0.], dtype=float32)})})}))"
      ]
     },
     "execution_count": 3,
     "metadata": {},
     "output_type": "execute_result"
    }
   ],
   "source": [
    "def mlp(scope: Scope, inputs: Array, features: int):\n",
    "  hscope = scope.push('hidden')\n",
    "  hidden = dense(hscope, inputs, features)\n",
    "  hidden = dense(hscope, inputs, features)\n",
    "  hidden = nn.relu(hidden)\n",
    "  return dense(scope.push('out'), hidden, 1)\n",
    "\n",
    "init(mlp)(random.PRNGKey(0), x, features=3)"
   ]
  },
  {
   "cell_type": "code",
   "execution_count": 4,
   "metadata": {},
   "outputs": [
    {
     "data": {
      "text/plain": [
       "(DeviceArray([[-0.00302252]], dtype=float32),\n",
       " FrozenDict({'param': FrozenDict({'hidden': FrozenDict({'kernel': DeviceArray([[-1.1642578 , -0.04300674,  0.33191404],\n",
       "              [-0.7799348 ,  0.24048047, -0.6054149 ]], dtype=float32), 'bias': DeviceArray([0., 0., 0.], dtype=float32)}), 'out': FrozenDict({'kernel': DeviceArray([[ 0.21448377],\n",
       "              [-0.01530595],\n",
       "              [ 0.14402702]], dtype=float32), 'bias': DeviceArray([0.], dtype=float32)})})}))"
      ]
     },
     "execution_count": 4,
     "metadata": {},
     "output_type": "execute_result"
    }
   ],
   "source": [
    "def mlp(scope: Scope, inputs: Array, features: int):\n",
    "  denselayer = functools.partial(dense, scope.push('hidden'))\n",
    "  hidden = denselayer(inputs, features)\n",
    "  hidden = denselayer(inputs, features)\n",
    "  hidden = nn.relu(hidden)\n",
    "  return dense(scope.push('out'), hidden, 1)\n",
    "\n",
    "init(mlp)(random.PRNGKey(0), x, features=3)"
   ]
  },
  {
   "cell_type": "code",
   "execution_count": 5,
   "metadata": {},
   "outputs": [
    {
     "data": {
      "text/plain": [
       "(DeviceArray([[0.44402555]], dtype=float32),\n",
       " FrozenDict({'param': FrozenDict({'dense__0': FrozenDict({'kernel': DeviceArray([[ 0.83161545, -0.2180224 ,  0.41811994],\n",
       "              [ 0.17165233, -0.14596988,  1.1707549 ]], dtype=float32), 'bias': DeviceArray([0., 0., 0.], dtype=float32)}), 'out': FrozenDict({'kernel': DeviceArray([[ 0.21448377],\n",
       "              [-0.01530595],\n",
       "              [ 0.14402702]], dtype=float32), 'bias': DeviceArray([0.], dtype=float32)})})}))"
      ]
     },
     "execution_count": 5,
     "metadata": {},
     "output_type": "execute_result"
    }
   ],
   "source": [
    "def mlp(scope: Scope, inputs: Array, features: int):\n",
    "  denselayer = scope.child(dense)\n",
    "  hidden = denselayer(inputs, features)\n",
    "  hidden = denselayer(inputs, features)\n",
    "  hidden = nn.relu(hidden)\n",
    "  return dense(scope.push('out'), hidden, 1)\n",
    "\n",
    "init(mlp)(random.PRNGKey(0), x, features=3)"
   ]
  },
  {
   "cell_type": "code",
   "execution_count": 6,
   "metadata": {},
   "outputs": [
    {
     "data": {
      "text/plain": [
       "(DeviceArray([[0.44402555]], dtype=float32),\n",
       " FrozenDict({'param': FrozenDict({'dense__0': FrozenDict({'kernel': DeviceArray([[ 0.83161545, -0.2180224 ,  0.41811994],\n",
       "              [ 0.17165233, -0.14596988,  1.1707549 ]], dtype=float32), 'bias': DeviceArray([0., 0., 0.], dtype=float32)}), 'out': FrozenDict({'kernel': DeviceArray([[ 0.21448377],\n",
       "              [-0.01530595],\n",
       "              [ 0.14402702]], dtype=float32), 'bias': DeviceArray([0.], dtype=float32)})})}))"
      ]
     },
     "execution_count": 6,
     "metadata": {},
     "output_type": "execute_result"
    }
   ],
   "source": [
    "def mlp(scope: Scope, inputs: Array, features: int):\n",
    "  denselayer = scope.child(dense)\n",
    "  hidden = denselayer(inputs, features)\n",
    "  hidden = denselayer(inputs, features)\n",
    "  hidden = nn.relu(hidden)\n",
    "  return dense(scope.push('out'), hidden, 1)\n",
    "\n",
    "init(mlp)(random.PRNGKey(0), x, features=3)"
   ]
  },
  {
   "cell_type": "code",
   "execution_count": 7,
   "metadata": {},
   "outputs": [
    {
     "name": "stdout",
     "output_type": "stream",
     "text": [
      "FrozenDict({'param': FrozenDict({'kernel': DeviceArray([[ 0.15374057, -0.6807397 , -1.3350962 ],\n",
      "             [ 0.59940743, -0.69430196, -0.7663768 ]], dtype=float32), 'bias': DeviceArray([0., 0., 0.], dtype=float32)})})\n"
     ]
    }
   ],
   "source": [
    "model_fn = functools.partial(nn.dense_general, features=3)\n",
    "x = jnp.ones((1, 2))\n",
    "y, params = init(model_fn)(random.PRNGKey(0), x)\n",
    "print(params)"
   ]
  },
  {
   "cell_type": "code",
   "execution_count": 8,
   "metadata": {},
   "outputs": [
    {
     "name": "stdout",
     "output_type": "stream",
     "text": [
      "[[ 0.11575121 -0.51936364 -1.113899  ]\n",
      " [ 0.45569834 -0.5300623  -0.5873911 ]]\n",
      "[ 0.45569834 -0.5300623  -0.5873911 ]\n",
      "[[-1.5175114 -0.6617551]]\n"
     ]
    }
   ],
   "source": [
    "embedding, _ = init(nn.embedding)(random.PRNGKey(0), num_embeddings=2, features=3)\n",
    "print(embedding.table)\n",
    "print(embedding.lookup(1))\n",
    "print(embedding.attend(jnp.ones((1, 3,))))"
   ]
  },
  {
   "cell_type": "code",
   "execution_count": 9,
   "metadata": {},
   "outputs": [
    {
     "data": {
      "text/plain": [
       "(DeviceArray([[-0.2751354]], dtype=float32),\n",
       " FrozenDict({'param': FrozenDict({'hidden': FrozenDict({'kernel': DeviceArray([[-1.1642578 , -0.04300674,  0.33191404],\n",
       "              [-0.7799348 ,  0.24048047, -0.6054149 ]], dtype=float32), 'bias': DeviceArray([0., 0., 0.], dtype=float32)}), 'lnorm': FrozenDict({'scale': DeviceArray([1., 1., 1.], dtype=float32), 'bias': DeviceArray([0., 0., 0.], dtype=float32)}), 'out': FrozenDict({'kernel': DeviceArray([[ 0.21448377],\n",
       "              [-0.01530595],\n",
       "              [ 0.14402702]], dtype=float32), 'bias': DeviceArray([0.], dtype=float32)})})}))"
      ]
     },
     "execution_count": 9,
     "metadata": {},
     "output_type": "execute_result"
    }
   ],
   "source": [
    "def mlp(scope: Scope, inputs: Array, features: int):\n",
    "  hidden = dense(scope.push('hidden'), inputs, features)\n",
    "  hidden = nn.relu(hidden)\n",
    "  lnormd = nn.layer_norm(scope.push('lnorm'), hidden) \n",
    "  return dense(scope.push('out'), lnormd, 1)\n",
    "\n",
    "init(mlp)(random.PRNGKey(0), x, features=3)"
   ]
  },
  {
   "cell_type": "code",
   "execution_count": 10,
   "metadata": {},
   "outputs": [
    {
     "data": {
      "text/plain": [
       "(DeviceArray([[[ 0.28011173, -0.55635864,  0.6146434 ,  0.5917805 ]]], dtype=float32),\n",
       " FrozenDict({'param': FrozenDict({'query': FrozenDict({'kernel': DeviceArray([[[-0.25566727,  0.24481767,  0.70468867,  0.10142951]],\n",
       " \n",
       "              [[-0.24900651, -0.43240824, -0.07879252, -0.35603613]],\n",
       " \n",
       "              [[ 0.04119987, -0.5303452 ,  0.5928286 , -0.5084808 ]],\n",
       " \n",
       "              [[-0.01729889,  0.76639396, -0.4523484 ,  0.8094689 ]]],            dtype=float32), 'bias': DeviceArray([[0., 0., 0., 0.]], dtype=float32)}), 'key': FrozenDict({'kernel': DeviceArray([[[-0.27695838,  0.73972565, -0.00267717,  0.669741  ]],\n",
       " \n",
       "              [[-0.6818866 ,  0.13959199, -0.3723538 , -0.35600063]],\n",
       " \n",
       "              [[ 0.1109049 , -0.22054054,  0.5455148 ,  0.21493351]],\n",
       " \n",
       "              [[-0.19008224,  0.06578335,  0.24833658,  0.00166761]]],            dtype=float32), 'bias': DeviceArray([[0., 0., 0., 0.]], dtype=float32)}), 'value': FrozenDict({'kernel': DeviceArray([[[ 0.7953513 , -0.31489673,  0.05924124, -0.7206108 ]],\n",
       " \n",
       "              [[-0.17805988,  0.20302927, -0.3807426 ,  0.25574264]],\n",
       " \n",
       "              [[-0.19177954, -0.22132646, -0.5681509 , -0.3374689 ]],\n",
       " \n",
       "              [[-0.46070418, -0.02352559,  0.05904352, -0.38416326]]],            dtype=float32), 'bias': DeviceArray([[0., 0., 0., 0.]], dtype=float32)}), 'out': FrozenDict({'kernel': DeviceArray([[[ 0.69658613,  0.49526367,  0.0839055 ,  0.8060124 ],\n",
       "               [-0.5572959 , -0.66304594,  0.11851442, -0.55663824],\n",
       "               [-0.39509287,  0.6335309 ,  0.5601345 , -0.00959172],\n",
       "               [ 0.18739122,  0.21005836, -0.94827217, -0.34860098]]],            dtype=float32), 'bias': DeviceArray([0., 0., 0., 0.], dtype=float32)})}), 'cache': FrozenDict({'entry': CacheEntry(key=DeviceArray([[[[-1.0380223 ,  0.7245605 ,  0.41882047,  0.5303415 ]],\n",
       " \n",
       "               [[-1.0380223 ,  0.7245605 ,  0.41882047,  0.5303415 ]]]],            dtype=float32), value=DeviceArray([[[[-0.03519225, -0.3567195 , -0.8306087 , -1.1865003 ]],\n",
       " \n",
       "               [[-0.03519225, -0.3567195 , -0.8306087 , -1.1865003 ]]]],            dtype=float32), i=DeviceArray(1, dtype=uint32))})}))"
      ]
     },
     "execution_count": 10,
     "metadata": {},
     "output_type": "execute_result"
    }
   ],
   "source": [
    "x = jnp.ones((1, 2, 4))\n",
    "attn = functools.partial(nn.multi_head_dot_product_attention, num_heads=1, cache=True, causal_mask=True)\n",
    "y, variables = init(attn)(random.PRNGKey(0), x, x)\n",
    "params = variables['param']\n",
    "cache = jax.tree_map(lambda fn: fn((1, 2)), variables['cache'])\n",
    "variables = variables.copy(cache=cache)\n",
    "apply(attn, mutable='cache')(variables, x[:, 0:1], x)"
   ]
  },
  {
   "cell_type": "code",
   "execution_count": null,
   "metadata": {},
   "outputs": [],
   "source": []
  }
 ],
 "metadata": {
  "kernelspec": {
   "display_name": "py36jax-venv",
   "language": "python",
   "name": "py36jax-venv"
  },
  "language_info": {
   "codemirror_mode": {
    "name": "ipython",
    "version": 3
   },
   "file_extension": ".py",
   "mimetype": "text/x-python",
   "name": "python",
   "nbconvert_exporter": "python",
   "pygments_lexer": "ipython3",
   "version": "3.6.8"
  }
 },
 "nbformat": 4,
 "nbformat_minor": 4
}
